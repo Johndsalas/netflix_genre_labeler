{
 "cells": [
  {
   "cell_type": "markdown",
   "id": "located-solid",
   "metadata": {},
   "source": [
    "# Goal\n",
    "* Choose a genre as a test case for model development\n",
    "* Build a Classification model to predict whether a film is or is not the test case genre\n",
    "* Evaluate the model to determine if accuracy warrants continuing this process with other genres"
   ]
  },
  {
   "cell_type": "code",
   "execution_count": 1,
   "id": "southeast-mineral",
   "metadata": {},
   "outputs": [],
   "source": [
    "# Imports\n",
    "\n",
    "import pandas as pd\n",
    "import numpy as np\n",
    "\n",
    "import matplotlib.pyplot as plt\n",
    "import seaborn as sns\n",
    "import os\n",
    "import re\n",
    "\n",
    "import unicodedata\n",
    "import nltk\n",
    "from nltk.tokenize.toktok import ToktokTokenizer\n",
    "from nltk.corpus import stopwords\n",
    "\n",
    "import sklearn.preprocessing\n",
    "from sklearn.tree import DecisionTreeClassifier\n",
    "from sklearn.ensemble import RandomForestClassifier\n",
    "from sklearn.neighbors import KNeighborsClassifier\n",
    "from sklearn.linear_model import LogisticRegression\n",
    "from sklearn.model_selection import train_test_split\n",
    "from sklearn.feature_extraction.text import CountVectorizer\n",
    "from sklearn.feature_extraction.text import TfidfVectorizer\n",
    "\n",
    "import warnings\n",
    "warnings.filterwarnings(\"ignore\")\n",
    "\n",
    "import wrangle as w\n",
    "import explore as e\n",
    "import model as m"
   ]
  },
  {
   "cell_type": "markdown",
   "id": "protecting-ethics",
   "metadata": {},
   "source": [
    "# Wrangle\n",
    "\n",
    "* Data acquired from [Kaggle](https://www.kaggle.com/datasets/victorsoeiro/netflix-tv-shows-and-movies?select=titles.csv)\n",
    "\n",
    "* Each row in the data represents a show appearing on Netflix at the time data was collected\n",
    "* Columns were restricted to description and genre\n",
    "* The following modifications were made when cleaning the text in description\n",
    "     * Converted to lowercase\n",
    "     * Special characters removed\n",
    "     * Remove non-ascii characters\n",
    "     * Lemmatize tokens\n",
    "     * Remove stop words using standard list plus two letter words and 'ing'\n",
    "* Boolean columns for each genre appearing in the genres column were added \n",
    "     * These columns indicate if the show belonged to that genre\n",
    "* Dataset contains 5791 rows after being prepared \n",
    "* Full dataset was split into train, validate and test sets \n",
    "     * Train set contains 3242 rows\n",
    "     * Validate set contains 1390 rows\n",
    "     * Test set contains 1159 rows"
   ]
  },
  {
   "cell_type": "code",
   "execution_count": 2,
   "id": "atomic-omega",
   "metadata": {},
   "outputs": [
    {
     "name": "stdout",
     "output_type": "stream",
     "text": [
      "Train set contains 3242 rows of data\n",
      "Validate set contains 1390 rows of data\n",
      "Test set contains 1159 rows of data\n"
     ]
    }
   ],
   "source": [
    "#acquire and prepare data\n",
    "df = w.get_show_data()\n",
    "\n",
    "# split data into train, validate and prep\n",
    "train, validate, test = w.split_my_data(df)\n",
    "\n",
    "# print number ow rows in train\n",
    "print(f\"Train set contains {train.shape[0]} rows of data\")\n",
    "print(f\"Validate set contains {validate.shape[0]} rows of data\")\n",
    "print(f\"Test set contains {test.shape[0]} rows of data\")"
   ]
  },
  {
   "cell_type": "markdown",
   "id": "latter-assistant",
   "metadata": {},
   "source": [
    "# Explore\n",
    "\n",
    "## 1. Choose a genre as a test case using the following criteria:\n",
    "   * Genre has large representation in the data\n",
    "   * Genre has a large number of unique words\n",
    "   * Genre has a high number of unique words appearing in each description\n",
    "   * Genre is relatively easy for a human to intuit \n",
    "\n",
    "## 2. Explore the chosen genre:\n",
    "   * How much of the data belongs to the test genre?\n",
    "   * What does the relative occurrence of words in the test genre or non-test genre films tell us?"
   ]
  },
  {
   "cell_type": "code",
   "execution_count": 3,
   "id": "small-ocean",
   "metadata": {},
   "outputs": [],
   "source": [
    "# get set of genres\n",
    "gen_set = e.get_gens(train)\n",
    "\n",
    "# get relative word frequency list and list of only the numbers\n",
    "word_freq = e.get_word_freq(train)\n",
    "word_counts = e.get_counts(word_freq)\n",
    "\n",
    "# get relative document frequency list and list of only the numbers\n",
    "doc_freq = e.get_doc_freq(train)\n",
    "doc_counts = e.get_counts(doc_freq)"
   ]
  },
  {
   "cell_type": "markdown",
   "id": "minimal-stability",
   "metadata": {},
   "source": [
    "## 1. Choose a Test Case "
   ]
  },
  {
   "cell_type": "markdown",
   "id": "wireless-cycle",
   "metadata": {},
   "source": [
    "### What is the distribution of genres in the train data?"
   ]
  },
  {
   "cell_type": "code",
   "execution_count": 4,
   "id": "golden-portable",
   "metadata": {},
   "outputs": [
    {
     "data": {
      "image/png": "[encoded data removed]",
      "text/plain": [
       "<Figure size 432x288 with 1 Axes>"
      ]
     },
     "metadata": {
      "needs_background": "light"
     },
     "output_type": "display_data"
    }
   ],
   "source": [
    "# display distribution of genres\n",
    "shows_per_gen = e.get_shows_per_gen(train, gen_set)\n",
    "e.get_bar(shows_per_gen, \"Top 5 Genres by Number of Films\")"
   ]
  },
  {
   "cell_type": "markdown",
   "id": "consistent-cartridge",
   "metadata": {},
   "source": [
    "* Comedy and Drama are by far the most highly represented genres in the training data."
   ]
  },
  {
   "cell_type": "markdown",
   "id": "governmental-scenario",
   "metadata": {},
   "source": [
    "### How many different unique words appear in each genre? \n",
    "\n",
    "* Unique Words are words that appear in the descriptions of films in a given genre and do not appear in descriptions of films that are not in that genre"
   ]
  },
  {
   "cell_type": "code",
   "execution_count": 5,
   "id": "junior-receipt",
   "metadata": {
    "scrolled": false
   },
   "outputs": [
    {
     "data": {
      "image/png": "[encoded data removed]",
      "text/plain": [
       "<Figure size 432x288 with 1 Axes>"
      ]
     },
     "metadata": {
      "needs_background": "light"
     },
     "output_type": "display_data"
    }
   ],
   "source": [
    "# display number of different unique words in each genre\n",
    "unique_words_per_gen = e.get_unique_words_per_gen(train, gen_set)\n",
    "e.get_bar(shows_per_gen, \"Top 5 Genres by Number of Unique Words\")"
   ]
  },
  {
   "cell_type": "markdown",
   "id": "indie-intelligence",
   "metadata": {},
   "source": [
    "* Comedy and Drama contain by far the largest number of different unique words"
   ]
  },
  {
   "cell_type": "markdown",
   "id": "engaged-vegetarian",
   "metadata": {},
   "source": [
    "### What is the average number of times unique words appear in descriptions of each genre?"
   ]
  },
  {
   "cell_type": "code",
   "execution_count": 6,
   "id": "frozen-choice",
   "metadata": {},
   "outputs": [
    {
     "data": {
      "image/png": "[encoded data removed]",
      "text/plain": [
       "<Figure size 432x288 with 1 Axes>"
      ]
     },
     "metadata": {
      "needs_background": "light"
     },
     "output_type": "display_data"
    }
   ],
   "source": [
    "# get frequency of unique words pre genre\n",
    "unique_word_appearance_per_genre = e.get_unique_word_appearance_per_genre(train, gen_set)\n",
    "e.get_bar(unique_word_appearance_per_genre, \"Top 5 Genres by Average Number of Unique Words per Description\")"
   ]
  },
  {
   "cell_type": "markdown",
   "id": "amended-principal",
   "metadata": {},
   "source": [
    "* Not a great deal of variance in unique word appearance frequency\n",
    "* Animation has the highest appearance frequency\n",
    "* Comedy and Drama are close behind"
   ]
  },
  {
   "cell_type": "markdown",
   "id": "intimate-coverage",
   "metadata": {},
   "source": [
    "## Test Case Conclusion\n",
    "\n",
    "* Comedy and Drama have high values in all of the testable criteria\n",
    "   * Representation in the data\n",
    "   * Number of unique words\n",
    "   * High number of unique words appearing in each description\n",
    "* Either genre would make a reasonable choice\n",
    "* The last criteria is how easily the genre would be to intuit for a human\n",
    "    * Comedy seems to me the earlier of the two genres for a human to intuit \n",
    "\n",
    "**For these reasons I am choosing comedy as the test case for this project**"
   ]
  },
  {
   "cell_type": "markdown",
   "id": "indonesian-mystery",
   "metadata": {},
   "source": [
    "## 2) Explore the Comedy Genre\n",
    "\n",
    "* What percent of the data is classified as a Comedy?\n",
    "* What does the relative occurrence of words in comedy or non-comedy films tell us?"
   ]
  },
  {
   "cell_type": "markdown",
   "id": "asian-divide",
   "metadata": {},
   "source": [
    "## How much of the data is Comedy?"
   ]
  },
  {
   "cell_type": "code",
   "execution_count": 7,
   "id": "fantastic-edwards",
   "metadata": {
    "scrolled": true
   },
   "outputs": [
    {
     "data": {
      "image/png": "[encoded data removed]",
      "text/plain": [
       "<Figure size 432x288 with 1 Axes>"
      ]
     },
     "metadata": {},
     "output_type": "display_data"
    }
   ],
   "source": [
    "e.omni_pie(train.comedy, \"40% of the Training Data are Comedy Titles\")"
   ]
  },
  {
   "cell_type": "markdown",
   "id": "proud-makeup",
   "metadata": {},
   "source": [
    "## What does the relative occurrence of words in comedy or non-comedy films tell us?\n",
    "\n",
    "I will look at two different measures:\n",
    "* **Relative Word Frequency** - the number of times a given word appears in comedy film descriptions minus the number of times that word appears in non-comedy film descriptions\n",
    "* **Relative Document Frequency** - the number of comedy descriptions a given word appears in minus the number of non-comedy films the word appears in"
   ]
  },
  {
   "cell_type": "code",
   "execution_count": 8,
   "id": "fixed-chocolate",
   "metadata": {
    "scrolled": false
   },
   "outputs": [
    {
     "data": {
      "image/png": "[encoded data removed]",
      "text/plain": [
       "<Figure size 1080x360 with 1 Axes>"
      ]
     },
     "metadata": {
      "needs_background": "light"
     },
     "output_type": "display_data"
    }
   ],
   "source": [
    "e.get_hist(word_counts,\"Distribution of Relative Word Frequency Values\",\"Relative Word Frequency\")"
   ]
  },
  {
   "cell_type": "markdown",
   "id": "extra-stone",
   "metadata": {},
   "source": [
    "* The Majority of the data is between -5 and 5\n",
    "    * Removing these \"low value\" numbers may reduce noise in the model\n",
    "    * Because the data is so focused around the 5 to - 5 mark I will concentrate on that range to remove potential noise \n",
    "* There is a negative skew to the data likely due to the 60/40 imbalance in the data\n",
    "    * Negative values may be caused or inflated by the skew \n",
    "    * Positive values are more likely to be true indicators of comedy films because the works against them     "
   ]
  },
  {
   "cell_type": "code",
   "execution_count": 9,
   "id": "interesting-upper",
   "metadata": {},
   "outputs": [
    {
     "data": {
      "image/png": "[encoded data removed]",
      "text/plain": [
       "<Figure size 1080x360 with 1 Axes>"
      ]
     },
     "metadata": {
      "needs_background": "light"
     },
     "output_type": "display_data"
    }
   ],
   "source": [
    "e.get_hist(doc_counts, \"Distribution of Relative Document Frequency Values\",\"Relative Document Frequency\")"
   ]
  },
  {
   "cell_type": "markdown",
   "id": "described-advance",
   "metadata": {},
   "source": [
    "* The Majority of the data is between -5 and 5\n",
    "    * Removing these \"low value\" numbers may reduce noise in the model\n",
    "    * Because the data is so focused around the 5 to - 5 mark I will concentrate on that range to remove potential noise \n",
    "* There is a negative skew to the data likely due to the 60/40 imbalance in the data\n",
    "    * Negative values may be caused or inflated by the skew \n",
    "    * Positive values are more likely to be true indicators of comedy films because the works against them     \n",
    "* Distribution of relative word frequencies and relative document frequencies are very similar"
   ]
  },
  {
   "cell_type": "markdown",
   "id": "compound-fantasy",
   "metadata": {},
   "source": [
    "## What do the most extreme 15 most extreme positive and negative frequency values tell us?"
   ]
  },
  {
   "cell_type": "code",
   "execution_count": 10,
   "id": "necessary-cover",
   "metadata": {
    "scrolled": false
   },
   "outputs": [
    {
     "data": {
      "image/png": "[encoded data removed]",
      "text/plain": [
       "<Figure size 864x432 with 2 Axes>"
      ]
     },
     "metadata": {
      "needs_background": "light"
     },
     "output_type": "display_data"
    }
   ],
   "source": [
    "e.display_ext_values(dict(word_freq[:15]),\"Top 15 Most Extreme Negative Word Frequency Values\", dict(word_freq[-15:]), \"Top 15 Most Extreme Positive Word Frequency Values\",\"Word Frequency Value\", \"Word\", 305)"
   ]
  },
  {
   "cell_type": "markdown",
   "id": "minus-headline",
   "metadata": {},
   "source": [
    "* Extreme positive values are much closer to zero than their negative counterparts\n",
    "    * Evidance that the negative skew is impacting the data \n",
    "* Extreme positive values contain words that are intuitively associated with comedy\n",
    "    * Examples include comedy, standup, and special\n",
    "* Extreme negative values contain words that are not intuitively disassociated with comedy \n",
    "    * Examples include per, life, and man\n",
    "    * This supports the idea some negative values could be resulting from the skew in the data"
   ]
  },
  {
   "cell_type": "code",
   "execution_count": 11,
   "id": "optional-jerusalem",
   "metadata": {
    "scrolled": false
   },
   "outputs": [
    {
     "data": {
      "image/png": "[encoded data removed]",
      "text/plain": [
       "<Figure size 864x432 with 2 Axes>"
      ]
     },
     "metadata": {
      "needs_background": "light"
     },
     "output_type": "display_data"
    }
   ],
   "source": [
    "e.display_ext_values(dict(doc_freq[:15]), \"Top 15 Most Extreme Negative Document Frequency Values\", dict(doc_freq[-15:]), \"Top 15 Most Extreme Positive Document Frequency Values\", \"Document Frequency Value\", \"Word\", 305)"
   ]
  },
  {
   "cell_type": "markdown",
   "id": "forward-anger",
   "metadata": {},
   "source": [
    "* The same overall trends are present in document frequency values that are in word frequency values\n",
    "* Extreme positive values are much closer to zero than their negative counterparts\n",
    "    * Evidance that the negative skew is impacting the data \n",
    "* Extreme positive values contain words that are intuitively associated with comedy\n",
    "    * Examples include comedy, standup, and special\n",
    "* Extreme negative values contain words that are not intuitively disassociated with comedy \n",
    "    * Examples include per, life, and man\n",
    "    * This supports the idea some negative values could be resulting from the skew in the data"
   ]
  },
  {
   "cell_type": "markdown",
   "id": "cosmetic-bailey",
   "metadata": {},
   "source": [
    "## Exploration Summary\n",
    "\n",
    "* Training data has 60% comedy and 40% non-comedy data\n",
    "* Both Relative Frequency metrics have shown a negative skew in their distributions\n",
    "* High positive value words are likely to be good indicators of comedy because the skew in the distribution works against positive values and many of the highest positive value words are intuitively indicative of the comedy genre\n",
    "* High negative value words may not be true indicators of comedy because the skew in the distribution may result in artificially low or negative values and many of the highest negative value words are not intuitively indicative of not being in the comedy genre\n",
    "* In future iterations of this project I will look for ways to gauge relative frequency that will not be as sensitive to imbalances in the data"
   ]
  },
  {
   "cell_type": "markdown",
   "id": "interracial-atlas",
   "metadata": {},
   "source": [
    "# Predictions Using Unique Words\n",
    "\n",
    "* 4 or more unique words appear in the description of each comedy film on average\n",
    "* I will now attempt to predict if a film is in the comedy genre using uniquethe following method:\n",
    "    * Unique words for comedy and non-comedy will be identified using train data and used to predict validate data\n",
    "    * Values will be assigned to each prediction according the presence/number of unique comedy and non-comedy words\n",
    "    * Prediction methods will be evaluated in terms of overall accuracy and override accuracy\n",
    "        * Overall Accuracy = total correct predictions / total attempted predictions\n",
    "            * Non-Boolean results will count as missed predictions\n",
    "        * Override Accuracy = total correct True or False predictions / Total True or False predictions\n",
    "            * Non-Boolean results will not be considered\n",
    "    * I will use two methods of prediction:\n",
    "        * Presence of unique words\n",
    "            * Has unique words for comedy and no unique words for non-comedy = True\n",
    "            * Has unique words for non-comedy and no unique words for comedy = False\n",
    "            * Has both = Has Both \n",
    "            * Has neither = Contains Neither\n",
    "        * Majority of unique words\n",
    "            * Has more comedy unique words than non-comedy unique words = True\n",
    "            * Has more non-comedy unique words than comedy unique words = False\n",
    "            * Has an equal number of comedy and non-comedy unique words = Equal Count\n",
    "            * Has neither = Has Neither\n",
    "    * Due to the 60/40 split in the data I am setting the baseline accuracy of 60% \n",
    "* If the overall accuracy of this prediction method is high enough it could be used as an alternative to traditional modeling. \n",
    "* If the override accuracy beats a given model's overall accuracy it could be used in conjunction with traditional modeling to override model results where the prediction method produces a boolean result."
   ]
  },
  {
   "cell_type": "code",
   "execution_count": 12,
   "id": "caroline-disaster",
   "metadata": {},
   "outputs": [],
   "source": [
    "# get set of words occuring in comedy and non-comedy descriptions\n",
    "com_train = e.get_description_set_of_words(train[train.comedy == True])\n",
    "non_train = e.get_description_set_of_words(train[train.comedy == False])\n",
    "\n",
    "# get set of words appearing in only comedy or non-comedy descriptions\n",
    "com_unique_train = com_train.difference(non_train)\n",
    "non_unique_train = non_train.difference(com_train)\n",
    "\n",
    "# get train and validate dataframes with only description and comedy columns\n",
    "train_evaluation_df = train[['description','comedy']]\n",
    "validate_evaluation_df = validate[['description','comedy']]"
   ]
  },
  {
   "cell_type": "markdown",
   "id": "experimental-punch",
   "metadata": {},
   "source": [
    "# Sanity Test - Predicting Train Using Presence of Unique Words "
   ]
  },
  {
   "cell_type": "code",
   "execution_count": 13,
   "id": "moral-requirement",
   "metadata": {},
   "outputs": [
    {
     "name": "stdout",
     "output_type": "stream",
     "text": [
      "Prediction Value Counts\n",
      "-----------------------\n",
      "False               1837\n",
      "True                1168\n",
      "contains neither     237\n",
      "Name: prediction, dtype: int64\n",
      "\n",
      "Evaluation Results\n",
      "-----------------------\n",
      "True     3005\n",
      "False     237\n",
      "Name: evaluation, dtype: int64\n",
      "\n",
      "Overall Accuracy\n",
      "-----------------------\n",
      "93.0\n",
      "\n",
      "Override Accuracy\n",
      "-----------------------\n",
      "100.0\n"
     ]
    }
   ],
   "source": [
    "m.get_predictions_presence(train_evaluation_df, com_unique_train, non_unique_train)"
   ]
  },
  {
   "cell_type": "markdown",
   "id": "hydraulic-patch",
   "metadata": {},
   "source": [
    "* Sanity Test performed as expected \n",
    "    * Method produced the same number of incorrect predictions and \"contains neither\" results giving evidence that\n",
    "        * Train data cases that contain unique words for either comedy or non-comedy correctly identified \n",
    "        * Those that did not were classified as \"contains neither\" "
   ]
  },
  {
   "cell_type": "markdown",
   "id": "compact-petite",
   "metadata": {},
   "source": [
    "# Predicting Validate Using Presence of Unique Words "
   ]
  },
  {
   "cell_type": "code",
   "execution_count": 14,
   "id": "described-calcium",
   "metadata": {},
   "outputs": [
    {
     "name": "stdout",
     "output_type": "stream",
     "text": [
      "Prediction Value Counts\n",
      "-----------------------\n",
      "contains both       512\n",
      "False               486\n",
      "contains neither    213\n",
      "True                179\n",
      "Name: prediction, dtype: int64\n",
      "\n",
      "Evaluation Results\n",
      "-----------------------\n",
      "False    941\n",
      "True     449\n",
      "Name: evaluation, dtype: int64\n",
      "\n",
      "Overall Accuracy\n",
      "-----------------------\n",
      "32.0\n",
      "\n",
      "Override Accuracy\n",
      "-----------------------\n",
      "68.0\n"
     ]
    }
   ],
   "source": [
    "m.get_predictions_presence(validate_evaluation_df, com_unique_train, non_unique_train)"
   ]
  },
  {
   "cell_type": "markdown",
   "id": "spoken-bottom",
   "metadata": {},
   "source": [
    "* Overall Accuracy is poor\n",
    "    * A large number of films contained unique words from both comedy and non-comedy or contained no unique words\n",
    "        * These words could not generate at True/False prediction and greatly hampered the method's accuracy\n",
    "* Override accuracy is 68%\n",
    "    * I would not recommend moving forward with a model that predicts less than 70%\n",
    "        * This method would not make a good override because its accuracy would not be higher than any model I would move forward with"
   ]
  },
  {
   "cell_type": "markdown",
   "id": "suitable-commitment",
   "metadata": {},
   "source": [
    "# Predicting Validate Using Number of Unique Words "
   ]
  },
  {
   "cell_type": "code",
   "execution_count": 15,
   "id": "standard-rwanda",
   "metadata": {},
   "outputs": [
    {
     "name": "stdout",
     "output_type": "stream",
     "text": [
      "Prediction Value Counts\n",
      "-----------------------\n",
      "False          739\n",
      "equal count    379\n",
      "True           272\n",
      "Name: prediction, dtype: int64\n",
      "\n",
      "Evaluation Results\n",
      "-----------------------\n",
      "False    708\n",
      "True     682\n",
      "Name: evaluation, dtype: int64\n",
      "\n",
      "Overall Accuracy\n",
      "-----------------------\n",
      "49.0\n",
      "\n",
      "Override Accuracy\n",
      "-----------------------\n",
      "67.0\n"
     ]
    }
   ],
   "source": [
    "m.get_predictions_number(validate_evaluation_df, com_unique_train, non_unique_train)"
   ]
  },
  {
   "cell_type": "markdown",
   "id": "polished-april",
   "metadata": {},
   "source": [
    "* Overall Accuracy improves, but is still below baseline\n",
    "    * Increase is likely due to increasing the number of True/False predictions it could make\n",
    "* Override Accuracy is slightly worse using this method at 7% above baseline"
   ]
  },
  {
   "cell_type": "markdown",
   "id": "hollywood-sodium",
   "metadata": {},
   "source": [
    "## Predicting Using Unique Words Conclusion\n",
    "\n",
    "* Baseline 60% \n",
    "* Predicting on Presence of Unique Words \n",
    "    * Overall Accuracy of 32% is far below baseline\n",
    "    * Override Accuracy of 68% is not sufficient to use as an override\n",
    "* Predicting on Number of Unique Words\n",
    "    * Overall Accuracy of 49% is far below baseline\n",
    "    * Override Accuracy of 67% is worse than predicting on presence alone\n",
    "* At the moment I do not recommend using either method to make predictions\n",
    "    * Overall accuracy is below baseline on both\n",
    "    * Using this method as an override is only useful if the model being overridden is predicting less accurately\n",
    "        * a model that predicts less accurately than 7-8% above a 60% baseline would not be suitable for the next step of the project\n",
    "* Adjustments to these methods may yield better results\n",
    "    * In future iterations of this project I will try totaling the relative frequency of each word in the description and predicting comedy if total is positive and non-comedy if the total is negative"
   ]
  },
  {
   "cell_type": "markdown",
   "id": "statewide-rabbit",
   "metadata": {},
   "source": [
    "# Modeling\n",
    "\n",
    "* Models will be evaluated in terms of overall accuracy \n",
    "* Because of the 60/40 split in the data baseline will be set at 60%\n",
    "* Models will first be evaluated on train and validate data\n",
    "* The top performing model will be evaluated on Test to gauge how it will perform on unseen data\n",
    "* I will also be gauging the effect of different data preparation and feature engineering techniques on model accuracy \n",
    "    * Vectorization strategies\n",
    "        * Count - Each word is assigned a number value for each film counting the number of times it appears in the description\n",
    "       * TF-IDF - Each word is assigned a number value for each film in a calculation which lowers the value based on the number of descriptions it appears in and raises the value based on the number of times the word appears in the description of the film\n",
    "    * Dropping features of words with low relative frequency \n",
    "        * I will examine two different measures\n",
    "            * **Relative Word Frequency** - the number of times a given word appears in comedy film descriptions minus the number of times that word appears in non-comedy film descriptions\n",
    "            * **Relative Document Frequency** - the number of comedy descriptions a given word appears in minus the number of non-comedy films the word appears in\n",
    "        * I will drop features at different threshold levels\n",
    "            * I will test dropping at threshold values of 0, 1, 2, 3, 4, and 5\n",
    "            * Words with a relative frequency between threshold value and negative threshold will be removed \n",
    "    * I will use the following machine learning models in my analysis\n",
    "        * Decision Tree\n",
    "        * Random Forest\n",
    "        * K Nearest Neighbors\n",
    "        * Logistic Regression\n",
    "\n",
    "### Note!\n",
    "\n",
    "* Model evaluations take a long time to run! If you are running a cloned version of this notebook please be patient!"
   ]
  },
  {
   "cell_type": "code",
   "execution_count": 16,
   "id": "endless-twelve",
   "metadata": {},
   "outputs": [],
   "source": [
    "# seperate train, validate and test data into X (description) and y (comedy)\n",
    "train_X = train[['description']].reset_index(drop=True)\n",
    "train_y = train[['comedy']].reset_index(drop=True)\n",
    "\n",
    "validate_X = validate[['description']].reset_index(drop=True)\n",
    "validate_y = validate[['comedy']].reset_index(drop=True)\n",
    "\n",
    "test_X = test[['description']].reset_index(drop=True)\n",
    "test_y = test[['comedy']].reset_index(drop=True)\n",
    "\n",
    "# vectorize X data using counts\n",
    "train_counts, validate_counts, test_counts = m.get_vectorized_data(train_X, validate_X, test_X, CountVectorizer())\n",
    "\n",
    "# vectorize X data using TF-IDF\n",
    "train_tfidf, validate_tfidf, test_tfidf = m.get_vectorized_data(train_X, validate_X, test_X, TfidfVectorizer())"
   ]
  },
  {
   "cell_type": "markdown",
   "id": "incredible-angel",
   "metadata": {},
   "source": [
    "## Count Vectorized Data - Dropping Low Relative Word Frequency Columns"
   ]
  },
  {
   "cell_type": "code",
   "execution_count": 17,
   "id": "sensitive-builder",
   "metadata": {},
   "outputs": [
    {
     "name": "stdout",
     "output_type": "stream",
     "text": [
      "\n",
      " _____________________________________________________________________________ \n",
      "| Threshold |        Model         | Accuracy On Train | Accuracy on Validate |\n",
      " ----------------------------------------------------------------------------- \n",
      "|    N/A    |    Decision Tree     |      99.97%       |        63.88%        |\n",
      "|     0     |    Decision Tree     |      99.97%       |        66.69%        |\n",
      "|     1     |    Decision Tree     |      99.97%       |        64.89%        |\n",
      "|     2     |    Decision Tree     |      99.97%       |        64.1%         |\n",
      "|     3     |    Decision Tree     |      99.97%       |        62.95%        |\n",
      "|     4     |    Decision Tree     |      99.97%       |        62.37%        |\n",
      "|     5     |    Decision Tree     |      99.94%       |        64.82%        |\n",
      " ----------------------------------------------------------------------------- \n",
      "\n",
      " _____________________________________________________________________________ \n",
      "| Threshold |        Model         | Accuracy On Train | Accuracy on Validate |\n",
      " ----------------------------------------------------------------------------- \n",
      "|    N/A    |    Random Forest     |      99.97%       |        70.07%        |\n",
      "|     0     |    Random Forest     |      99.97%       |        70.22%        |\n",
      "|     1     |    Random Forest     |      99.97%       |        70.07%        |\n",
      "|     2     |    Random Forest     |      99.97%       |        69.57%        |\n",
      "|     3     |    Random Forest     |      99.97%       |        69.78%        |\n",
      "|     4     |    Random Forest     |      99.97%       |        69.28%        |\n",
      "|     5     |    Random Forest     |      99.94%       |        69.64%        |\n",
      " ----------------------------------------------------------------------------- \n",
      "\n",
      " _____________________________________________________________________________ \n",
      "| Threshold |        Model         | Accuracy On Train | Accuracy on Validate |\n",
      " ----------------------------------------------------------------------------- \n",
      "|    N/A    |     K Neighbors      |      62.86%       |        60.5%         |\n",
      "|     0     |     K Neighbors      |      63.14%       |        60.22%        |\n",
      "|     1     |     K Neighbors      |      66.78%       |        60.72%        |\n",
      "|     2     |     K Neighbors      |      74.24%       |        61.01%        |\n",
      "|     3     |     K Neighbors      |      81.06%       |        56.55%        |\n",
      "|     4     |     K Neighbors      |      76.96%       |        51.15%        |\n",
      "|     5     |     K Neighbors      |      80.38%       |        58.63%        |\n",
      " ----------------------------------------------------------------------------- \n",
      "\n",
      " _____________________________________________________________________________ \n",
      "| Threshold |        Model         | Accuracy On Train | Accuracy on Validate |\n",
      " ----------------------------------------------------------------------------- \n",
      "|    N/A    |  Logistic Regression |      99.78%       |        71.8%         |\n",
      "|     0     |  Logistic Regression |       99.6%       |        71.94%        |\n",
      "|     1     |  Logistic Regression |      97.69%       |        72.01%        |\n",
      "|     2     |  Logistic Regression |      95.74%       |        71.29%        |\n",
      "|     3     |  Logistic Regression |      93.28%       |        71.22%        |\n",
      "|     4     |  Logistic Regression |      90.47%       |        69.78%        |\n",
      "|     5     |  Logistic Regression |      88.99%       |        69.28%        |\n",
      " ----------------------------------------------------------------------------- \n"
     ]
    }
   ],
   "source": [
    "# runs model evaluations and generates results tabled by threshold and algorithem used\n",
    "m.get_acc_tables(train_counts, train_y, validate_counts, validate_y, dict(word_freq))"
   ]
  },
  {
   "cell_type": "markdown",
   "id": "ceramic-guinea",
   "metadata": {},
   "source": [
    "* Top performing model is logistic regression with removal threshold of 1\n",
    "    * The model's accuracy of 72.01% is ~12% higher than baseline\n",
    "* Other models showed some improvement when removing low relative word frequency columns \n",
    "    * Threshold for increasing accuracy appears to be from 0-3, higher values result in lower accuracy"
   ]
  },
  {
   "cell_type": "markdown",
   "id": "characteristic-garbage",
   "metadata": {},
   "source": [
    "## Count Vectorized Data - Drop Low Relative Document Frequency Columns"
   ]
  },
  {
   "cell_type": "code",
   "execution_count": 18,
   "id": "automatic-edwards",
   "metadata": {},
   "outputs": [
    {
     "name": "stdout",
     "output_type": "stream",
     "text": [
      "\n",
      " _____________________________________________________________________________ \n",
      "| Threshold |        Model         | Accuracy On Train | Accuracy on Validate |\n",
      " ----------------------------------------------------------------------------- \n",
      "|    N/A    |    Decision Tree     |      99.97%       |        63.88%        |\n",
      "|     0     |    Decision Tree     |      99.97%       |        66.33%        |\n",
      "|     1     |    Decision Tree     |      99.97%       |        65.47%        |\n",
      "|     2     |    Decision Tree     |      99.97%       |        65.11%        |\n",
      "|     3     |    Decision Tree     |      99.97%       |        64.68%        |\n",
      "|     4     |    Decision Tree     |      99.97%       |        61.22%        |\n",
      "|     5     |    Decision Tree     |      99.94%       |        61.44%        |\n",
      " ----------------------------------------------------------------------------- \n",
      "\n",
      " _____________________________________________________________________________ \n",
      "| Threshold |        Model         | Accuracy On Train | Accuracy on Validate |\n",
      " ----------------------------------------------------------------------------- \n",
      "|    N/A    |    Random Forest     |      99.97%       |        70.07%        |\n",
      "|     0     |    Random Forest     |      99.97%       |        70.29%        |\n",
      "|     1     |    Random Forest     |      99.97%       |        69.78%        |\n",
      "|     2     |    Random Forest     |      99.97%       |        68.99%        |\n",
      "|     3     |    Random Forest     |      99.97%       |        70.36%        |\n",
      "|     4     |    Random Forest     |      99.97%       |        70.07%        |\n",
      "|     5     |    Random Forest     |      99.94%       |        68.92%        |\n",
      " ----------------------------------------------------------------------------- \n",
      "\n",
      " _____________________________________________________________________________ \n",
      "| Threshold |        Model         | Accuracy On Train | Accuracy on Validate |\n",
      " ----------------------------------------------------------------------------- \n",
      "|    N/A    |     K Neighbors      |      62.86%       |        60.5%         |\n",
      "|     0     |     K Neighbors      |      63.39%       |        60.36%        |\n",
      "|     1     |     K Neighbors      |      67.27%       |        59.64%        |\n",
      "|     2     |     K Neighbors      |      74.24%       |        60.5%         |\n",
      "|     3     |     K Neighbors      |      79.92%       |        56.91%        |\n",
      "|     4     |     K Neighbors      |      73.63%       |        50.22%        |\n",
      "|     5     |     K Neighbors      |       81.0%       |        56.91%        |\n",
      " ----------------------------------------------------------------------------- \n",
      "\n",
      " _____________________________________________________________________________ \n",
      "| Threshold |        Model         | Accuracy On Train | Accuracy on Validate |\n",
      " ----------------------------------------------------------------------------- \n",
      "|    N/A    |  Logistic Regression |      99.78%       |        71.8%         |\n",
      "|     0     |  Logistic Regression |      99.54%       |        71.37%        |\n",
      "|     1     |  Logistic Regression |      97.13%       |        71.65%        |\n",
      "|     2     |  Logistic Regression |      95.25%       |        71.51%        |\n",
      "|     3     |  Logistic Regression |      92.57%       |        70.79%        |\n",
      "|     4     |  Logistic Regression |      89.61%       |        69.35%        |\n",
      "|     5     |  Logistic Regression |      87.79%       |        70.29%        |\n",
      " ----------------------------------------------------------------------------- \n"
     ]
    }
   ],
   "source": [
    "# runs model evaluations and generates results tabled by threshold and algorithem used\n",
    "m.get_acc_tables(train_counts, train_y, validate_counts, validate_y, dict(doc_freq))"
   ]
  },
  {
   "cell_type": "markdown",
   "id": "effective-sweet",
   "metadata": {},
   "source": [
    "* Top performing model is logistic regression with removal threshold of 1\n",
    "    * The model's accuracy of 71.65% is ~12% higher than baseline\n",
    "    * However this model does not perform as well as the previous top model\n",
    "* Decision Tree and Random forest models showed some improvement when removing low relative document frequency columns \n",
    "    * Threshold for increasing accuracy was 0, higher values resulted in lower accuracy\n",
    "* K Neighbors was not improved by removing low relative document frequency columns "
   ]
  },
  {
   "cell_type": "markdown",
   "id": "floral-mauritius",
   "metadata": {},
   "source": [
    "## TF-IDF Vectorized Data - Drop Low Relative Word Frequency Columns"
   ]
  },
  {
   "cell_type": "code",
   "execution_count": 19,
   "id": "spatial-respondent",
   "metadata": {},
   "outputs": [
    {
     "name": "stdout",
     "output_type": "stream",
     "text": [
      "\n",
      " _____________________________________________________________________________ \n",
      "| Threshold |        Model         | Accuracy On Train | Accuracy on Validate |\n",
      " ----------------------------------------------------------------------------- \n",
      "|    N/A    |    Decision Tree     |      99.97%       |        61.15%        |\n",
      "|     0     |    Decision Tree     |      99.97%       |        62.45%        |\n",
      "|     1     |    Decision Tree     |      99.97%       |        61.44%        |\n",
      "|     2     |    Decision Tree     |      99.97%       |        59.78%        |\n",
      "|     3     |    Decision Tree     |      99.97%       |        60.36%        |\n",
      "|     4     |    Decision Tree     |      99.97%       |        58.78%        |\n",
      "|     5     |    Decision Tree     |      99.97%       |        60.79%        |\n",
      " ----------------------------------------------------------------------------- \n",
      "\n",
      " _____________________________________________________________________________ \n",
      "| Threshold |        Model         | Accuracy On Train | Accuracy on Validate |\n",
      " ----------------------------------------------------------------------------- \n",
      "|    N/A    |    Random Forest     |      99.97%       |        70.43%        |\n",
      "|     0     |    Random Forest     |      99.97%       |        69.64%        |\n",
      "|     1     |    Random Forest     |      99.97%       |        69.64%        |\n",
      "|     2     |    Random Forest     |      99.97%       |        69.78%        |\n",
      "|     3     |    Random Forest     |      99.97%       |        68.78%        |\n",
      "|     4     |    Random Forest     |      99.97%       |        69.21%        |\n",
      "|     5     |    Random Forest     |      99.97%       |        68.13%        |\n",
      " ----------------------------------------------------------------------------- \n",
      "\n",
      " _____________________________________________________________________________ \n",
      "| Threshold |        Model         | Accuracy On Train | Accuracy on Validate |\n",
      " ----------------------------------------------------------------------------- \n",
      "|    N/A    |     K Neighbors      |      80.35%       |        67.63%        |\n",
      "|     0     |     K Neighbors      |      40.78%       |        40.0%         |\n",
      "|     1     |     K Neighbors      |      50.74%       |        43.53%        |\n",
      "|     2     |     K Neighbors      |      87.01%       |        51.37%        |\n",
      "|     3     |     K Neighbors      |      45.77%       |        41.65%        |\n",
      "|     4     |     K Neighbors      |      49.97%       |        42.37%        |\n",
      "|     5     |     K Neighbors      |      84.15%       |        55.11%        |\n",
      " ----------------------------------------------------------------------------- \n",
      "\n",
      " _____________________________________________________________________________ \n",
      "| Threshold |        Model         | Accuracy On Train | Accuracy on Validate |\n",
      " ----------------------------------------------------------------------------- \n",
      "|    N/A    |  Logistic Regression |      88.25%       |        70.43%        |\n",
      "|     0     |  Logistic Regression |      87.51%       |        71.01%        |\n",
      "|     1     |  Logistic Regression |      83.59%       |        70.36%        |\n",
      "|     2     |  Logistic Regression |      81.92%       |        70.0%         |\n",
      "|     3     |  Logistic Regression |      79.98%       |        69.78%        |\n",
      "|     4     |  Logistic Regression |      79.03%       |        69.71%        |\n",
      "|     5     |  Logistic Regression |      77.76%       |        69.5%         |\n",
      " ----------------------------------------------------------------------------- \n"
     ]
    }
   ],
   "source": [
    "m.get_acc_tables(train_tfidf, train_y, validate_tfidf, validate_y, dict(word_freq))"
   ]
  },
  {
   "cell_type": "markdown",
   "id": "variable-replacement",
   "metadata": {},
   "source": [
    "* Top performing model is logistic regression with removal threshold of 0\n",
    "    * The model's accuracy of 71.01% is ~11% higher than baseline\n",
    "    * However this model does not perform as well as the previous top model\n",
    "* Decision Tree showed some improvement when removing low relative word frequency columns \n",
    "    * Threshold for increasing accuracy was 0, higher values resulted in lower accuracy\n",
    "* K Neighbors was not improved by removing low relative document frequency columns "
   ]
  },
  {
   "cell_type": "markdown",
   "id": "governmental-leone",
   "metadata": {},
   "source": [
    "## TF-IDF Vectorized Data - Drop Low Relative Document Frequency Columns"
   ]
  },
  {
   "cell_type": "code",
   "execution_count": 20,
   "id": "sexual-testing",
   "metadata": {},
   "outputs": [
    {
     "name": "stdout",
     "output_type": "stream",
     "text": [
      "\n",
      " _____________________________________________________________________________ \n",
      "| Threshold |        Model         | Accuracy On Train | Accuracy on Validate |\n",
      " ----------------------------------------------------------------------------- \n",
      "|    N/A    |    Decision Tree     |      99.97%       |        61.15%        |\n",
      "|     0     |    Decision Tree     |      99.97%       |        60.72%        |\n",
      "|     1     |    Decision Tree     |      99.97%       |        59.93%        |\n",
      "|     2     |    Decision Tree     |      99.97%       |        60.94%        |\n",
      "|     3     |    Decision Tree     |      99.97%       |        61.58%        |\n",
      "|     4     |    Decision Tree     |      99.97%       |        59.28%        |\n",
      "|     5     |    Decision Tree     |      99.94%       |        59.64%        |\n",
      " ----------------------------------------------------------------------------- \n",
      "\n",
      " _____________________________________________________________________________ \n",
      "| Threshold |        Model         | Accuracy On Train | Accuracy on Validate |\n",
      " ----------------------------------------------------------------------------- \n",
      "|    N/A    |    Random Forest     |      99.97%       |        70.43%        |\n",
      "|     0     |    Random Forest     |      99.97%       |        70.86%        |\n",
      "|     1     |    Random Forest     |      99.97%       |        69.71%        |\n",
      "|     2     |    Random Forest     |      99.97%       |        69.64%        |\n",
      "|     3     |    Random Forest     |      99.97%       |        69.42%        |\n",
      "|     4     |    Random Forest     |      99.97%       |        68.78%        |\n",
      "|     5     |    Random Forest     |      99.94%       |        67.19%        |\n",
      " ----------------------------------------------------------------------------- \n",
      "\n",
      " _____________________________________________________________________________ \n",
      "| Threshold |        Model         | Accuracy On Train | Accuracy on Validate |\n",
      " ----------------------------------------------------------------------------- \n",
      "|    N/A    |     K Neighbors      |      80.35%       |        67.63%        |\n",
      "|     0     |     K Neighbors      |      73.63%       |        50.07%        |\n",
      "|     1     |     K Neighbors      |      79.52%       |        56.47%        |\n",
      "|     2     |     K Neighbors      |      49.66%       |        41.65%        |\n",
      "|     3     |     K Neighbors      |       47.9%       |        41.65%        |\n",
      "|     4     |     K Neighbors      |      51.42%       |        43.09%        |\n",
      "|     5     |     K Neighbors      |      86.21%       |        56.76%        |\n",
      " ----------------------------------------------------------------------------- \n",
      "\n",
      " _____________________________________________________________________________ \n",
      "| Threshold |        Model         | Accuracy On Train | Accuracy on Validate |\n",
      " ----------------------------------------------------------------------------- \n",
      "|    N/A    |  Logistic Regression |      88.25%       |        70.43%        |\n",
      "|     0     |  Logistic Regression |      87.11%       |        70.36%        |\n",
      "|     1     |  Logistic Regression |      82.85%       |        69.93%        |\n",
      "|     2     |  Logistic Regression |      81.12%       |        69.42%        |\n",
      "|     3     |  Logistic Regression |      79.73%       |        69.64%        |\n",
      "|     4     |  Logistic Regression |      78.66%       |        69.57%        |\n",
      "|     5     |  Logistic Regression |      77.79%       |        70.0%         |\n",
      " ----------------------------------------------------------------------------- \n"
     ]
    }
   ],
   "source": [
    "m.get_acc_tables(train_tfidf, train_y, validate_tfidf, validate_y, dict(doc_freq))"
   ]
  },
  {
   "cell_type": "markdown",
   "id": "deadly-delay",
   "metadata": {},
   "source": [
    "* Top performing model is Random Forest with removal threshold of 0\n",
    "    * The model's accuracy of 71.86% is ~11% higher than baseline\n",
    "    * However this model does not perform as well as the previous top model\n",
    "    * Threshold for increasing was 0, higher values resulted in lower accuracy\n",
    "* Decision Tree showed some improvement at threshold 3, but lost accuracy at all other threshold levels\n",
    "* Models other than  were not improved by removing low relative document frequency columns "
   ]
  },
  {
   "cell_type": "markdown",
   "id": "attractive-winner",
   "metadata": {},
   "source": [
    "# Top Model  \n",
    "\n",
    "* Uses count vectorized data\n",
    "* Removes words using relative word frequency\n",
    "* Uses a threshold of 0\n",
    "* Is a Logistic Regression model\n",
    "* Has an accuracy of 72.01% \n",
    "* Beats Baseline by ~12% on validate data"
   ]
  },
  {
   "cell_type": "markdown",
   "id": "ranking-argument",
   "metadata": {},
   "source": [
    "# Top Model Evaluated on Test"
   ]
  },
  {
   "cell_type": "code",
   "execution_count": 21,
   "id": "historical-dream",
   "metadata": {},
   "outputs": [
    {
     "name": "stdout",
     "output_type": "stream",
     "text": [
      "The top model predicts with 72.99% accuracy on test data\n"
     ]
    }
   ],
   "source": [
    "m.evaluate_model_test(train_counts, train_y, test_counts, test_y, dict(word_freq), 1)"
   ]
  },
  {
   "cell_type": "markdown",
   "id": "severe-annotation",
   "metadata": {},
   "source": [
    "# Model Conclusions\n",
    "\n",
    "* Top model was able to predict with 72.99% on test data beating baseline by ~13%\n",
    "* Logistic Regression produced the most accurate models\n",
    "* Vectorizing using counts seems to outperform vectorizing using TF-IDF on this data\n",
    "    * Difference in accuracy was small\n",
    "* Removing low relative frequency words seems to outperform removing words with low document frequency\n",
    "    * Difference in accuracy was small\n",
    "    * Models only seemed to benefit from removal at a threshold of 0-3, higher thresholds yield less accuracy\n",
    "    * Majority of models only benefit from removal at 0-1\n",
    "    * K Neighbors benefited the least from removing low relative frequency features\n",
    "* Models seem to overfit across the board"
   ]
  },
  {
   "cell_type": "markdown",
   "id": "declared-efficiency",
   "metadata": {},
   "source": [
    "# Process Summary\n",
    "\n",
    "* Comedy was chosen as the test case to build a predictive model using the following criteria \n",
    "    * Representation in the data\n",
    "    * Number of unique words\n",
    "    * High number of unique words appearing in each description\n",
    "    * human intuitability\n",
    "* The comedy genre was explored \n",
    "    * Data Split\n",
    "        * Training data has 60% comedy and 40% non-comedy data \n",
    "            * This likely caused the relative frequency numbers to skew toward the negative\n",
    "    * Relative Frequency Distribution\n",
    "        * Overall trends in the data were the same using relative word frequency and relative document frequency\n",
    "            * Majority of the data is between -5 and 5\n",
    "                * Concluded using removal thresholds that are between 0-5 to remove noise would likely produce the most accurate models\n",
    "            * There is a negative skew to the data likely due to the 60/40 imbalance in the data\n",
    "    * Extreme Value Words\n",
    "        * Extreme positive values are much closer to zero than their negative counterparts \n",
    "            * More evidence the data is skewed\n",
    "        * Extreme positive values represent words that are intuitively indicative of comedy films\n",
    "        * Extreme negative words represent words that are not intuitively indicative of non-comedy films \n",
    "            * This gives evidence that the skew is likely having an impact on the relative frequency data\n",
    "        * High positive value words are still likely to be strong indicators of comedy because the skew works against high positive value words\n",
    "* Methods were developed to predict comedy genre\n",
    "    * Pre-Modeling Predictions\n",
    "        * Predicting comedy using presence or number of unique words yielded disappointing results\n",
    "            * Presence of Unique Words\n",
    "                * Overall Accuracy 32%\n",
    "                * Override Accuracy 68%\n",
    "            * Number of Unique Words\n",
    "                * Overall Accuracy 49%\n",
    "                * Override Accuracy 67%\n",
    "            * Overall accuracy for both attempts were less than baseline\n",
    "            * Override accuracy for both attempts were above baseline but worse then the final model \n",
    "            * Methods are not viable for predicting comedy at this time\n",
    "* Machine learning models were developed to predict comedy genre\n",
    "    * Top Performing Model \n",
    "        * Uses count vectorized data\n",
    "        * Removes words using relative word frequency\n",
    "        * Uses a threshold of 0\n",
    "        * Is a Logistic Regression model\n",
    "        * Has an accuracy of 72.99% on test data beating baseline by ~13%\n",
    "    * Count Vectorized data seems to outperform TF-IDF data by a small margin\n",
    "    * Removing word features due to low word frequency seems to outperform removing word features do to low document frequency by a small margin"
   ]
  },
  {
   "cell_type": "markdown",
   "id": "useful-ladder",
   "metadata": {},
   "source": [
    "# Next Steps and Recommendations\n",
    "\n",
    "* At this time the accuracy of the best performing model stands at 72.99% beating baseline by ~13%\n",
    "* Enough promise has been shown for me to recommend moving forward with constructing a pipeline to create and evaluate models for predicting each genre individually \n",
    "* I also recommend putting more time into developing a more accurate model using the following guidelines \n",
    "    * Focus on Logistic Regression models\n",
    "        * This model was consistently the highest performer on its default settings\n",
    "        * It may be possible to increase its accuracy by adjusting its hyperparameters\n",
    "    * Focus on count vectorized Data\n",
    "        * This type of vectorization seems to result in slightly higher accuracy than TF-IDF\n",
    "    * Focus on relative frequency by word count\n",
    "        * Removing low relative frequency words seems to outperform removing words with low document frequency \n",
    "        * Normalize relative frequency values to avoid skewing the data  \n",
    "    * Rethink non-modeling approach to predictions\n",
    "        * Try making predictions by adding the relative frequency numbers of all of the words in the description\n",
    "            * positive results would be predicted as comedy \n",
    "            * negative results would be predicted as non-comedy"
   ]
  }
 ],
 "metadata": {
  "kernelspec": {
   "display_name": "Python 3",
   "language": "python",
   "name": "python3"
  },
  "language_info": {
   "codemirror_mode": {
    "name": "ipython",
    "version": 3
   },
   "file_extension": ".py",
   "mimetype": "text/x-python",
   "name": "python",
   "nbconvert_exporter": "python",
   "pygments_lexer": "ipython3",
   "version": "3.7.4"
  }
 },
 "nbformat": 4,
 "nbformat_minor": 5
}
