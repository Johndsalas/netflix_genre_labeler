{
 "cells": [
  {
   "cell_type": "markdown",
   "id": "located-solid",
   "metadata": {},
   "source": [
    "# Goal\n",
    "* Choose a genre as a test case\n",
    "\n",
    "* Develop a method or model for predicting if a given film is in the test genre based on its Netflix description\n",
    "\n",
    "* Evaluate accuracy of the top model and decide if it is high enough to proceed to the next step of creating a pipeline to acquire, prepare, create and evaluate a model that predicts True/False for each genre in the dataset for each "
   ]
  },
  {
   "cell_type": "code",
   "execution_count": 1,
   "id": "southeast-mineral",
   "metadata": {},
   "outputs": [],
   "source": [
    "# Imports\n",
    "\n",
    "import pandas as pd\n",
    "import numpy as np\n",
    "\n",
    "import matplotlib.pyplot as plt\n",
    "import seaborn as sns\n",
    "import os\n",
    "import re\n",
    "\n",
    "import unicodedata\n",
    "import nltk\n",
    "from nltk.tokenize.toktok import ToktokTokenizer\n",
    "from nltk.corpus import stopwords\n",
    "\n",
    "import sklearn.preprocessing\n",
    "from sklearn.tree import DecisionTreeClassifier\n",
    "from sklearn.ensemble import RandomForestClassifier\n",
    "from sklearn.neighbors import KNeighborsClassifier\n",
    "from sklearn.linear_model import LogisticRegression\n",
    "from sklearn.model_selection import train_test_split\n",
    "from sklearn.feature_extraction.text import CountVectorizer\n",
    "from sklearn.feature_extraction.text import TfidfVectorizer\n",
    "\n",
    "import warnings\n",
    "warnings.filterwarnings(\"ignore\")\n",
    "\n",
    "import wrangle as w\n",
    "import explore as e\n",
    "import model as m"
   ]
  },
  {
   "cell_type": "markdown",
   "id": "protecting-ethics",
   "metadata": {},
   "source": [
    "# Wrangle\n",
    "\n",
    "* Data acquired from [Kaggle](https://www.kaggle.com/datasets/victorsoeiro/netflix-tv-shows-and-movies?select=titles.csv)\n",
    "\n",
    "* Each row in the data represents a show appearing on Netflix at the time data was collected\n",
    "* Columns were restricted to description and genre\n",
    "* The following modifications were made when cleaning the text in description\n",
    "     * Converted to lowercase\n",
    "     * Special characters removed\n",
    "     * Remove non-ascii characters\n",
    "     * Lemmatize tokens\n",
    "     * Remove stop words using standard list plus two letter words\n",
    "* Boolean columns for each genre appearing in the genres column were added \n",
    "     * These columns indicate if the show belonged to that genre\n",
    "* Dataset contains 5791 rows after being prepared \n",
    "* full dataset was split into train, validate and test sets \n",
    "     * Train set contains 3242 rows\n",
    "     * Validate set contains 1390 rows\n",
    "     * Test set contains 1159 rows"
   ]
  },
  {
   "cell_type": "code",
   "execution_count": 2,
   "id": "atomic-omega",
   "metadata": {},
   "outputs": [
    {
     "name": "stdout",
     "output_type": "stream",
     "text": [
      "Train set contains 3242 rows of data\n",
      "Validate set contains 1390 rows of data\n",
      "Test set contains 1159 rows of data\n"
     ]
    }
   ],
   "source": [
    "#acquire and prepare data\n",
    "df = w.get_show_data()\n",
    "\n",
    "# split data into train, validate and prep\n",
    "train, validate, test = w.split_my_data(df)\n",
    "\n",
    "# print number ow rows in train\n",
    "print(f\"Train set contains {train.shape[0]} rows of data\")\n",
    "print(f\"Validate set contains {validate.shape[0]} rows of data\")\n",
    "print(f\"Test set contains {test.shape[0]} rows of data\")"
   ]
  },
  {
   "cell_type": "markdown",
   "id": "latter-assistant",
   "metadata": {},
   "source": [
    "# Explore\n",
    "\n",
    "## 1. Choose a genre as a test case using the following criteria:\n",
    "   * Genre has large representation in the data\n",
    "   * Genre has a large number of unique words\n",
    "   * Genre has a high number of unique words appearing in each description\n",
    "   * Genre is relatively easy for a human to intuit \n",
    "\n",
    "## 2. Explore the chosen genre:\n",
    "   * How much of the data is represented by the chosen genre?\n",
    "   * What is the distribution of word and document frequency for the chosen genre?\n",
    "   * What words have the highest and lowest word and document frequency?\n",
    "   * Is it possible to predict the chosen genre using unique words?"
   ]
  },
  {
   "cell_type": "code",
   "execution_count": 3,
   "id": "small-ocean",
   "metadata": {},
   "outputs": [],
   "source": [
    "# get set of genres\n",
    "gen_set = e.get_gens(train)\n",
    "\n",
    "# get relative word frequency list and list of only the numbers\n",
    "word_freq = e.get_word_freq(train)\n",
    "word_counts = e.get_counts(word_freq)\n",
    "\n",
    "# get relative document frequency list and list of only the numbers\n",
    "doc_freq = e.get_doc_freq(train)\n",
    "doc_counts = e.get_counts(doc_freq)"
   ]
  },
  {
   "cell_type": "markdown",
   "id": "minimal-stability",
   "metadata": {},
   "source": [
    "## 1. Choose a Test Case "
   ]
  },
  {
   "cell_type": "markdown",
   "id": "wireless-cycle",
   "metadata": {},
   "source": [
    "### What is the distribution of genres in the train data?"
   ]
  },
  {
   "cell_type": "code",
   "execution_count": 4,
   "id": "golden-portable",
   "metadata": {},
   "outputs": [
    {
     "data": {
      "image/png": "[encoded data removed]",
      "text/plain": [
       "<Figure size 432x288 with 1 Axes>"
      ]
     },
     "metadata": {
      "needs_background": "light"
     },
     "output_type": "display_data"
    }
   ],
   "source": [
    "# display distribution of genres\n",
    "shows_per_gen = e.get_shows_per_gen(train, gen_set)\n",
    "e.get_bar(shows_per_gen, \"Top 5 Genres by Number of Films\")"
   ]
  },
  {
   "cell_type": "markdown",
   "id": "consistent-cartridge",
   "metadata": {},
   "source": [
    "* Comedy and Drama are by far the most highly represented genres in the training data."
   ]
  },
  {
   "cell_type": "markdown",
   "id": "governmental-scenario",
   "metadata": {},
   "source": [
    "### How many different unique words appear in each genre? \n",
    "\n",
    "* Unique Words are words that appear in the descriptions of films in a given genre and do not appear in descriptions of films that are not in that genre"
   ]
  },
  {
   "cell_type": "code",
   "execution_count": 5,
   "id": "junior-receipt",
   "metadata": {
    "scrolled": false
   },
   "outputs": [
    {
     "data": {
      "image/png": "[encoded data removed]",
      "text/plain": [
       "<Figure size 432x288 with 1 Axes>"
      ]
     },
     "metadata": {
      "needs_background": "light"
     },
     "output_type": "display_data"
    }
   ],
   "source": [
    "# display number of different unique words in each genre\n",
    "unique_words_per_gen = e.get_unique_words_per_gen(train, gen_set)\n",
    "e.get_bar(shows_per_gen, \"Top 5 Genres by Number of Unique Words\")"
   ]
  },
  {
   "cell_type": "markdown",
   "id": "indie-intelligence",
   "metadata": {},
   "source": [
    "* Comedy and Drama contain by far the largest number of differint unique words"
   ]
  },
  {
   "cell_type": "markdown",
   "id": "engaged-vegetarian",
   "metadata": {},
   "source": [
    "### What is the average number of times unique words appear in descriptions of each genre?"
   ]
  },
  {
   "cell_type": "code",
   "execution_count": 6,
   "id": "frozen-choice",
   "metadata": {},
   "outputs": [
    {
     "data": {
      "image/png": "[encoded data removed]",
      "text/plain": [
       "<Figure size 432x288 with 1 Axes>"
      ]
     },
     "metadata": {
      "needs_background": "light"
     },
     "output_type": "display_data"
    }
   ],
   "source": [
    "# get frequency of unique words pre genre\n",
    "unique_word_appearance_per_genre = e.get_unique_word_appearance_per_genre(train, gen_set)\n",
    "e.get_bar(unique_word_appearance_per_genre, \"Top 5 Genres by Average Number of Unique Words per Description\")"
   ]
  },
  {
   "cell_type": "markdown",
   "id": "amended-principal",
   "metadata": {},
   "source": [
    "* Not a great deal of variance in unique word appearance frequency\n",
    "* Animation has the highest appearance frequency\n",
    "* Comedy and Drama are close behind"
   ]
  },
  {
   "cell_type": "markdown",
   "id": "intimate-coverage",
   "metadata": {},
   "source": [
    "## Test Case Conclusion\n",
    "\n",
    "* Comedy and Drama have high values in all of the testable criteria\n",
    "   * Representation in the data\n",
    "   * Number of unique words\n",
    "   * High number of unique words appearing in each description\n",
    "* Either genre would make a reasonable choice\n",
    "* The last criteria is how easily the genre would be to intuit for a human\n",
    "    * Comedy seems to me the earlier of the two genres for a human to intuit \n",
    "\n",
    "**For these reasons I am choosing comedy as the test case for this project**"
   ]
  },
  {
   "cell_type": "markdown",
   "id": "alert-floating",
   "metadata": {},
   "source": [
    "## 2) Explore the Comedy Genre\n",
    "\n",
    "* What percent of the data is classified as a Comedy?\n",
    "* What does the relative occurrence of words in comedy or non-comedy films tell us?"
   ]
  },
  {
   "cell_type": "markdown",
   "id": "asian-divide",
   "metadata": {},
   "source": [
    "## How much of the data is Comedy?"
   ]
  },
  {
   "cell_type": "code",
   "execution_count": 7,
   "id": "fantastic-edwards",
   "metadata": {
    "scrolled": true
   },
   "outputs": [
    {
     "data": {
      "image/png": "[encoded data removed]",
      "text/plain": [
       "<Figure size 432x288 with 1 Axes>"
      ]
     },
     "metadata": {},
     "output_type": "display_data"
    }
   ],
   "source": [
    "e.omni_pie(train.comedy, \"40% of the Training Data are Comedy Titles\")"
   ]
  },
  {
   "cell_type": "markdown",
   "id": "proud-makeup",
   "metadata": {},
   "source": [
    "## What does the relative occurrence of words in comedy or non-comedy films tell us?\n",
    "\n",
    "I will look at two different measures:\n",
    "* **Relative Word Frequency** - the number of times a given word appears in comedy film descriptions minus the number of times that word appears in non-comedy film descriptions\n",
    "* **Relative Document Frequency** - the number of comedy descriptions a given word appears in minus the number of non-comedy films the word appears in"
   ]
  },
  {
   "cell_type": "code",
   "execution_count": 8,
   "id": "fixed-chocolate",
   "metadata": {
    "scrolled": false
   },
   "outputs": [
    {
     "data": {
      "image/png": "[encoded data removed]",
      "text/plain": [
       "<Figure size 1080x360 with 1 Axes>"
      ]
     },
     "metadata": {
      "needs_background": "light"
     },
     "output_type": "display_data"
    }
   ],
   "source": [
    "e.get_hist(word_counts,\"Distribution of Relative Word Frequency Values\",\"Relative Word Frequency\")"
   ]
  },
  {
   "cell_type": "markdown",
   "id": "extra-stone",
   "metadata": {},
   "source": [
    "* The Majority of the data is between -5 and positive 5\n",
    "    * This shows that there are a large number of words that are not strongly indicative of comedy or non-comedy.\n",
    "    * Removing these \"low value\" numbers may reduce noise in the model\n",
    "    * Because the data is so focused around the 5 to - 5 mark I will concentrate on that range to remove potential noise \n",
    "* There is a negative skew to the data likely due to a 60/40 imbalance in the data\n",
    "    * Negative values may be caused or inflated by the skew \n",
    "    * Positive values are more likely to be true indicators of comedy films because the works against them     "
   ]
  },
  {
   "cell_type": "code",
   "execution_count": 9,
   "id": "interesting-upper",
   "metadata": {},
   "outputs": [
    {
     "data": {
      "image/png": "[encoded data removed]",
      "text/plain": [
       "<Figure size 1080x360 with 1 Axes>"
      ]
     },
     "metadata": {
      "needs_background": "light"
     },
     "output_type": "display_data"
    }
   ],
   "source": [
    "e.get_hist(doc_counts, \"Distribution of Relative Document Frequency Values\",\"Relative Document Frequency\")"
   ]
  },
  {
   "cell_type": "markdown",
   "id": "described-advance",
   "metadata": {},
   "source": [
    "* The Majority of the data is between -5 and positive 5\n",
    "    * This shows that there are a large number of words that are not strongly indicative of comedy or non-comedy.\n",
    "    * Removing these \"low value\" numbers may reduce noise in the model\n",
    "    * Because the data is so focused around the 5 to - 5 mark I will concentrate on that range to remove potential noise \n",
    "* There is a negative skew to the data likely due to a 60/40 imbalance in the data\n",
    "    * Negative values may be caused or inflated by the skew \n",
    "    * Positive values are more likely to be true indicators of comedy films because the works against them \n",
    "* Distribution of relative word frequencys and relative document frequencies are very similer"
   ]
  },
  {
   "cell_type": "markdown",
   "id": "compound-fantasy",
   "metadata": {},
   "source": [
    "## What do the most extreme 15 most extreme positive and negative frequency values tell us?"
   ]
  },
  {
   "cell_type": "code",
   "execution_count": 10,
   "id": "necessary-cover",
   "metadata": {
    "scrolled": false
   },
   "outputs": [
    {
     "data": {
      "image/png": "[encoded data removed]",
      "text/plain": [
       "<Figure size 864x432 with 2 Axes>"
      ]
     },
     "metadata": {
      "needs_background": "light"
     },
     "output_type": "display_data"
    }
   ],
   "source": [
    "e.display_ext_values(dict(word_freq[:15]),\"Top 15 Most Extreme Negative Word Frequency Values\", dict(word_freq[-15:]), \"Top 15 Most Extreme Positive Word Frequency Values\",\"Word Frequency Value\", \"Word\", 305)"
   ]
  },
  {
   "cell_type": "markdown",
   "id": "minus-headline",
   "metadata": {},
   "source": [
    "* Extreme positive values are much closer to zero than their negative counterparts\n",
    "    * Negative skew in the data is clear \n",
    "* Extreme positive values contain words that are intuitively associated with comedy\n",
    "    * Examples include comedy, standup, and special\n",
    "* Extreme negative values contain words that are not intuitively disassociated with comedy \n",
    "    * Examples include per, life, and man\n",
    "    * This supports the idea some negative values could be be resulting from the skew in the data"
   ]
  },
  {
   "cell_type": "code",
   "execution_count": 11,
   "id": "optional-jerusalem",
   "metadata": {
    "scrolled": false
   },
   "outputs": [
    {
     "data": {
      "image/png": "[encoded data removed]",
      "text/plain": [
       "<Figure size 864x432 with 2 Axes>"
      ]
     },
     "metadata": {
      "needs_background": "light"
     },
     "output_type": "display_data"
    }
   ],
   "source": [
    "e.display_ext_values(dict(doc_freq[:15]), \"Top 15 Most Extreme Negative Document Frequency Values\", dict(doc_freq[-15:]), \"Top 15 Most Extreme Positive Document Frequency Values\", \"Document Frequency Value\", \"Word\", 305)"
   ]
  },
  {
   "cell_type": "markdown",
   "id": "forward-anger",
   "metadata": {},
   "source": [
    "* The same overall trends are present in document frequency values that are in word frequency values\n",
    "* Extreme positive values are much closer to zero than their negative counterparts\n",
    "    * Negative skew in the data is clear \n",
    "* Extreme positive values contain words that are intuitively associated with comedy\n",
    "    * Examples include comedy, standup, and special\n",
    "* Extreme negative values contain words that are not intuitively disassociated with comedy \n",
    "    * Examples include per, life, and man\n",
    "    * This supports the idea some negative values could be be resulting from the skew in the data"
   ]
  },
  {
   "cell_type": "markdown",
   "id": "cosmetic-bailey",
   "metadata": {},
   "source": [
    "## Exploration Summary\n",
    "\n",
    "* Training data has a 60/40 split of comedy and non-comedy data\n",
    "* Both Relative Frequency metrics have shown a negative skew in thier distributions\n",
    "* High positive value words are likely to be good indicators of comedy because the skew in the distribution works against positive values and many of the highist positive value words are intuatively indicative of the comedy genre\n",
    "* High negative value words may not be true indicators of comedy because the skew in the distribution may result in artificially low or negative values and many of the highist negative value words are not intuatively indicative of not being in the comedy genre\n",
    "* In future itterations of this project I will look for a way to guage relative frequency that will not be as sensitive to skews in the data"
   ]
  },
  {
   "cell_type": "markdown",
   "id": "interracial-atlas",
   "metadata": {},
   "source": [
    "# Predictions Using Unique Words\n",
    "\n",
    "On average 4 or more unique words will appear in the description of each comedy film. Based on this I will test whether I can predict if a film is a comedy or non-comedy by using the presence or absence of unique words. I will use the following method:\n",
    "\n",
    "* Unique words for comedy and non-comedy will be identified using train data and used to predict validate data\n",
    "* Values will be assigned to each prediction according the presence/number of unique comedy and non-comedy words\n",
    "* Prediction methods will be evaluated in terms of overall accuracy and override accuracy\n",
    "    * Overall Accuracy = total correct predictions / total attempted predictions\n",
    "        * Non-Boolean results will count as missed predictions\n",
    "    * Override Accuracy = total correct True or False predictions / Total True or False predictions\n",
    "        * Non-Boolean results will not be considered\n",
    "* I will use two methods of prediction:\n",
    "    * Presence of unique words\n",
    "        * Has unique words for comedy and no unique words for non-comedy = True\n",
    "        * Has unique words for non-comedy and no unique words for comedy = False\n",
    "        * Has both = Has Both \n",
    "        * Has neither = Contains Neither\n",
    "    * Majority of unique words\n",
    "        * Has more comedy unique words than non-comedy unique words = True\n",
    "        * Has more non-comedy unique words than comedy unique words = False\n",
    "        * Has an equal number of comedy and non-comedy unique words = Equal Count\n",
    "        * Has neither = Has Neither\n",
    "* Due to the 60/40 split in the data I am setting the baseline accuracy of 60% \n",
    "\n",
    "If the overall accuracy of this prediction method is high enough it could be used as an alternative to traditional modeling. If override accuracy beats a given model's overall accuracy it could be used in conjunction with traditional modeling to override model results where the prediction method produces a boolean result."
   ]
  },
  {
   "cell_type": "code",
   "execution_count": 12,
   "id": "caroline-disaster",
   "metadata": {},
   "outputs": [],
   "source": [
    "# get set of words occuring in comedy and non-comedy descriptions\n",
    "com_train = e.get_description_set_of_words(train[train.comedy == True])\n",
    "non_train = e.get_description_set_of_words(train[train.comedy == False])\n",
    "\n",
    "# get set of words appearing in only comedy or non-comedy descriptions\n",
    "com_unique_train = com_train.difference(non_train)\n",
    "non_unique_train = non_train.difference(com_train)\n",
    "\n",
    "# get train and validate dataframes with only description and comedy columns\n",
    "train_evaluation_df = train[['description','comedy']]\n",
    "validate_evaluation_df = validate[['description','comedy']]"
   ]
  },
  {
   "cell_type": "markdown",
   "id": "experimental-punch",
   "metadata": {},
   "source": [
    "# Sanity Test - Predicting Train Using Presence of Unique Words "
   ]
  },
  {
   "cell_type": "code",
   "execution_count": 13,
   "id": "moral-requirement",
   "metadata": {},
   "outputs": [
    {
     "name": "stdout",
     "output_type": "stream",
     "text": [
      "Prediction Value Counts\n",
      "-----------------------\n",
      "False               1837\n",
      "True                1168\n",
      "contains niether     237\n",
      "Name: prediction, dtype: int64\n",
      "\n",
      "Evaluation Results\n",
      "-----------------------\n",
      "True     3005\n",
      "False     237\n",
      "Name: evaluation, dtype: int64\n",
      "\n",
      "Overall Accuracy\n",
      "-----------------------\n",
      "93.0\n",
      "\n",
      "Override Accuracy\n",
      "-----------------------\n",
      "100.0\n"
     ]
    }
   ],
   "source": [
    "m.get_predictions_presence(train_evaluation_df, com_unique_train, non_unique_train)"
   ]
  },
  {
   "cell_type": "markdown",
   "id": "hydraulic-patch",
   "metadata": {},
   "source": [
    "* Sanity Test performed as expected \n",
    "* This method produced the same number of incorrect predictions and contains neither results giving evidence that\n",
    "    * All of the train data cases that contain unique words for either comedy or non-comedy correctly identified \n",
    "    * Those that did not were classified as contains neither "
   ]
  },
  {
   "cell_type": "markdown",
   "id": "compact-petite",
   "metadata": {},
   "source": [
    "# Predicting Validate Using Presence of Unique Words "
   ]
  },
  {
   "cell_type": "code",
   "execution_count": 14,
   "id": "described-calcium",
   "metadata": {},
   "outputs": [
    {
     "name": "stdout",
     "output_type": "stream",
     "text": [
      "Prediction Value Counts\n",
      "-----------------------\n",
      "contains both       512\n",
      "False               486\n",
      "contains niether    213\n",
      "True                179\n",
      "Name: prediction, dtype: int64\n",
      "\n",
      "Evaluation Results\n",
      "-----------------------\n",
      "False    941\n",
      "True     449\n",
      "Name: evaluation, dtype: int64\n",
      "\n",
      "Overall Accuracy\n",
      "-----------------------\n",
      "32.0\n",
      "\n",
      "Override Accuracy\n",
      "-----------------------\n",
      "68.0\n"
     ]
    }
   ],
   "source": [
    "m.get_predictions_presence(validate_evaluation_df, com_unique_train, non_unique_train)"
   ]
  },
  {
   "cell_type": "markdown",
   "id": "spoken-bottom",
   "metadata": {},
   "source": [
    "* Overall Accuracy is very poor due to a large number of films that either contained unique words from both comedy and non-comedy or contained no unique words\n",
    "* When considering only True/False predictions accuracy is 8% above baseline\n",
    "* I do not recommend using this method of prediction"
   ]
  },
  {
   "cell_type": "markdown",
   "id": "suitable-commitment",
   "metadata": {},
   "source": [
    "# Predicting Validate Using Number of Unique Words "
   ]
  },
  {
   "cell_type": "code",
   "execution_count": 15,
   "id": "standard-rwanda",
   "metadata": {},
   "outputs": [
    {
     "name": "stdout",
     "output_type": "stream",
     "text": [
      "Prediction Value Counts\n",
      "-----------------------\n",
      "False          739\n",
      "equal count    379\n",
      "True           272\n",
      "Name: prediction, dtype: int64\n",
      "\n",
      "Evaluation Results\n",
      "-----------------------\n",
      "False    708\n",
      "True     682\n",
      "Name: evaluation, dtype: int64\n",
      "\n",
      "Overall Accuracy\n",
      "-----------------------\n",
      "49.0\n",
      "\n",
      "Override Accuracy\n",
      "-----------------------\n",
      "67.0\n"
     ]
    }
   ],
   "source": [
    "m.get_predictions_number(validate_evaluation_df, com_unique_train, non_unique_train)"
   ]
  },
  {
   "cell_type": "markdown",
   "id": "polished-april",
   "metadata": {},
   "source": [
    "* Overall Accuracy improves, but is still below baseline\n",
    "* Increase is likely due to increasing the number of True/False predictions it could make\n",
    "* Override Accuracy is slightly worse using this method at 7% above baseline"
   ]
  },
  {
   "cell_type": "markdown",
   "id": "hollywood-sodium",
   "metadata": {},
   "source": [
    "## Predicting Using Unique Words Conclusion\n",
    "\n",
    "* Baseline 60% \n",
    "* Predicting on Presence of Unique Words \n",
    "    * Overall Accuracy of 32% is far below baseline\n",
    "    * Override Accuracy of 68% is slightly better than baseline\n",
    "* Predicting on Number of Unique Words\n",
    "    * Overall Accuracy of 49% is far below baseline\n",
    "    * Override Accuracy of 67% is worse than predicting on presence alone\n",
    "* At the moment I do not recommend using either method to make predictions\n",
    "    * Overall accuracy is below baseline on both\n",
    "    * Using this method as an override is only useful if the model being overridden is predicting less accurately\n",
    "        * a model that predicts less accurately than 7-8% above a 60% baseline should not be considered for this project\n",
    "* Adjustments to these methods may yield better results\n",
    "    * In future itterations of this project I will try totaling the relative frequency of each word in the description and predicting comedy if total is positive and non-comedy if the total is negative"
   ]
  },
  {
   "cell_type": "markdown",
   "id": "statewide-rabbit",
   "metadata": {},
   "source": [
    "# Modeling\n",
    "\n",
    "* Models will be evaluated in terms of overall accuracy \n",
    "* Because of the 60/40 split in the data baseline will be set at 60%\n",
    "* Models will first be evaluated on train and validate data\n",
    "* The top performing model will be evaluated on Test to guage how it will perform on unseen data\n",
    "* I will also be guaging the effect of different data preperation and feature engineering tequniques on model accuracy \n",
    "    * Vectorization strategies\n",
    "        * Count - Each word is assigned a number value for each film counting the number of times it appears in the description\n",
    "       * TF-IDF - Each word is assigned a number value for each film in a calculation which lowers the value based on the number of descriptions in the data it appears in and raises the value based on the number of times the word appears in the description of the film\n",
    "    * Dropping features of words with low relative frequency \n",
    "        * I will examine two different measures\n",
    "            * **Relative Word Frequency** - the number of times a given word appears in comedy film descriptions minus the number of times that word appears in non-comedy film descriptions\n",
    "            * **Relative Document Frequency** - the number of comedy descriptions a given word appears in minus the number of non-comedy films the word appears in\n",
    "        * I will drop features at differint threshold levels\n",
    "            * I will test dropping at threshold values of 0, 1, 2, 3, 4, and 5\n",
    "            * Words with a relative frequency between threshold value and negative threshold will be removed \n",
    "    * I will use the following machine learning models in my analysis\n",
    "        * Decision Tree\n",
    "        * Random Forest\n",
    "        * K Nearest Neighbors\n",
    "        * Logistic Regression\n",
    "\n",
    "### Note !\n",
    "\n",
    "* Model evaluations take a long time to run! If you are running a cloned version of this notebook please be patient!"
   ]
  },
  {
   "cell_type": "code",
   "execution_count": 16,
   "id": "endless-twelve",
   "metadata": {},
   "outputs": [],
   "source": [
    "# seperate train, validate and test data into X (description) and y (comedy)\n",
    "train_X = train[['description']].reset_index(drop=True)\n",
    "train_y = train[['comedy']].reset_index(drop=True)\n",
    "\n",
    "validate_X = validate[['description']].reset_index(drop=True)\n",
    "validate_y = validate[['comedy']].reset_index(drop=True)\n",
    "\n",
    "test_X = test[['description']].reset_index(drop=True)\n",
    "test_y = test[['comedy']].reset_index(drop=True)"
   ]
  },
  {
   "cell_type": "markdown",
   "id": "ambient-reason",
   "metadata": {},
   "source": [
    "## Count Vectorized Data"
   ]
  },
  {
   "cell_type": "code",
   "execution_count": 17,
   "id": "hawaiian-interview",
   "metadata": {},
   "outputs": [],
   "source": [
    "# vectorize discriptions using counts\n",
    "train_counts, validate_counts, test_counts = m.get_vectorized_data(train_X, validate_X, test_X, CountVectorizer())"
   ]
  },
  {
   "cell_type": "markdown",
   "id": "incredible-angel",
   "metadata": {},
   "source": [
    "## Count Vectorized Data - Drop Low Relative Word Frequency Columns"
   ]
  },
  {
   "cell_type": "code",
   "execution_count": null,
   "id": "sensitive-builder",
   "metadata": {},
   "outputs": [
    {
     "name": "stdout",
     "output_type": "stream",
     "text": [
      "\n",
      " _____________________________________________________________________________ \n",
      "| Threshold |        Model         | Accuracy On Trian | Accuracy on Validate |\n",
      " ----------------------------------------------------------------------------- \n",
      "|    N/A    |    Decision Tree     |      99.97%       |        63.88%        |\n"
     ]
    }
   ],
   "source": [
    "# runs model evaluations and generates results tabled by threshold and algorithem used\n",
    "m.get_acc_tables(train_counts, train_y, validate_counts, validate_y, dict(word_freq))"
   ]
  },
  {
   "cell_type": "markdown",
   "id": "characteristic-garbage",
   "metadata": {},
   "source": [
    "## Count Vectorized Data - Drop Low Relative Document Frequency Columns"
   ]
  },
  {
   "cell_type": "code",
   "execution_count": null,
   "id": "automatic-edwards",
   "metadata": {},
   "outputs": [],
   "source": [
    "# runs model evaluations and generates results tabled by threshold and algorithem used\n",
    "m.get_acc_tables(train_counts, train_y, validate_counts, validate_y, dict(doc_freq))"
   ]
  },
  {
   "cell_type": "markdown",
   "id": "instant-individual",
   "metadata": {},
   "source": [
    "## TF-IDF Vectorized Data"
   ]
  },
  {
   "cell_type": "code",
   "execution_count": null,
   "id": "noticed-start",
   "metadata": {},
   "outputs": [],
   "source": [
    "# runs model evaluations and generates results tabled by threshold and algorithem used\n",
    "train_tfidf, validate_tfidf, test_tfidf = m.get_vectorized_data(train_X, validate_X, test_X, TfidfVectorizer())"
   ]
  },
  {
   "cell_type": "markdown",
   "id": "floral-mauritius",
   "metadata": {},
   "source": [
    "## TF-IDF Vectorized Data - Drop Low Relative Word Frequency Columns"
   ]
  },
  {
   "cell_type": "code",
   "execution_count": null,
   "id": "spatial-respondent",
   "metadata": {},
   "outputs": [],
   "source": [
    "m.get_acc_tables(train_tfidf, train_y, validate_tfidf, validate_y, dict(word_freq))"
   ]
  },
  {
   "cell_type": "markdown",
   "id": "governmental-leone",
   "metadata": {},
   "source": [
    "## TF-IDF Vectorized Data - Drop Low Relative Document Frequency Columns"
   ]
  },
  {
   "cell_type": "code",
   "execution_count": null,
   "id": "sexual-testing",
   "metadata": {},
   "outputs": [],
   "source": [
    "m.get_acc_tables(train_tfidf, train_y, validate_tfidf, validate_y, dict(doc_freq))"
   ]
  },
  {
   "cell_type": "code",
   "execution_count": null,
   "id": "recovered-boards",
   "metadata": {},
   "outputs": [],
   "source": []
  },
  {
   "cell_type": "code",
   "execution_count": null,
   "id": "sexual-mentor",
   "metadata": {},
   "outputs": [],
   "source": []
  },
  {
   "cell_type": "code",
   "execution_count": null,
   "id": "swedish-luxembourg",
   "metadata": {},
   "outputs": [],
   "source": []
  },
  {
   "cell_type": "code",
   "execution_count": null,
   "id": "particular-monthly",
   "metadata": {},
   "outputs": [],
   "source": []
  },
  {
   "cell_type": "markdown",
   "id": "rolled-publication",
   "metadata": {},
   "source": [
    "| Threshold       | Model               | Accuracy On Trian | Accuracy on Validate |\n",
    "|-----------------|---------------------|-------------------|----------------------|\n",
    "| Nothing Removed | Decision Tree       | 99.97%            | 63.88%               |\n",
    "| Nothing Removed | Random Forest       | 99.97%            | 70.07%               |\n",
    "| Nothing Removed | K Neighbors         | 62.86%            | 60.50%               |\n",
    "| Nothing Removed | Logistic Regression | 99.78%            | **71.80%**           |\n",
    "\n",
    "* Highest performing model on validate is logistic regression with an accuracy of 71.80%\n",
    "* This beats baseline by almost 12%"
   ]
  },
  {
   "cell_type": "code",
   "execution_count": null,
   "id": "adequate-xerox",
   "metadata": {},
   "outputs": [],
   "source": [
    "m."
   ]
  },
  {
   "cell_type": "markdown",
   "id": "raised-attack",
   "metadata": {},
   "source": [
    "| Threshold       | Model               | Accuracy On Train | Accuracy on Validate |\n",
    "|-----------------|---------------------|-------------------|----------------------|\n",
    "| Nothing Removed | Decision Tree       | 99.97%            | 61.58%               |\n",
    "| Nothing Removed | Random Forest       | 99.97%            | 70.00%               |\n",
    "| Nothing Removed | K Neighbors         | 80.35%            | 67.63%               |\n",
    "| Nothing Removed | Logistic Regression | 88.25%            | **70.43%**           |\n",
    "\n",
    "* Observations\n",
    "    * Top models on validate are Random Forest and Logistic Regression at ~70% accuracy\n",
    "    * This is ~ 10% improvement on baseline but is ~1% worse than the counts vectorized data\n",
    "* Takeaways \n",
    "    * It seems that count vectorized data is slightly better than TF-IDF vectorization before removing data"
   ]
  },
  {
   "cell_type": "markdown",
   "id": "confirmed-sleep",
   "metadata": {},
   "source": [
    "| Threshold       | Model               | Accuracy On Trian | Accuracy on Validate |\n",
    "|-----------------|---------------------|-------------------|----------------------|\n",
    "| Nothing Removed | Decision Tree       | 99.97%            | 61.58%               |\n",
    "|   0             | Decision Tree       | 99.97%            | **62.30%**           |\n",
    "|   5             | Decision Tree       | 99.97%            | 60.14%               |\n",
    "|  20             | Decision Tree       | 99.23%            | 59.86%               |\n",
    "|  50             | Decision Tree       | 92.69%            | 60.65%               |\n",
    "| 100             | Decision Tree       | 82.54%            | 57.34%               |\n",
    "\n",
    "| Threshold       | Model               | Accuracy On Trian | Accuracy on Validate |\n",
    "|-----------------|---------------------|-------------------|----------------------|\n",
    "| Nothing Removed | Random Forest       | 99.97%            | **70.00%**           |\n",
    "|   0             | Random Forest       | 99.97%            | 69.93%               |\n",
    "|   5             | Random Forest       | 99.97%            | 67.05%               |\n",
    "|  20             | Random Forest       | 99.23%            | 64.75%               |\n",
    "|  50             | Random Forest       | 92.69%            | 62.88%               |\n",
    "| 100             | Random Forest       | 82.54%            | 58.85%               |\n",
    "\n",
    "| Threshold       | Model               | Accuracy On Trian | Accuracy on Validate |\n",
    "|-----------------|---------------------|-------------------|----------------------|\n",
    "| Nothing Removed | K Neighbors         | 80.35%            | **67.63%**           |\n",
    "| 0               | K Neighbors         | 40.78%            | 40.00%               |\n",
    "| 5               | K Neighbors         | 84.15%            | 55.11%               |\n",
    "| 20              | K Neighbors         | 75.85%            | 59.71%               |\n",
    "| 50              | K Neighbors         | 72.92%            | 62.88%               |\n",
    "| 100             | K Neighbors         | 67.77%            | 60.43%               |\n",
    "\n",
    "\n",
    "| Threshold       | Model               | Accuracy On Trian | Accuracy on Validate |\n",
    "|-----------------|---------------------|-------------------|----------------------|\n",
    "| Nothing Removed | Logistic Regression | 88.25%            | 70.43%               |\n",
    "| 0               | Logistic Regression | 87.51%            | **71.01%**           |\n",
    "| 5               | Logistic Regression | 77.76%            | 69.50%               |\n",
    "| 20              | Logistic Regression | 71.16%            | 68.35%               |\n",
    "| 50              | Logistic Regression | 67.15%            | 66.55%               |\n",
    "| 100             | Logistic Regression | 63.60%            | 63.02%               |\n",
    "\n",
    "* Observations\n",
    "    * There was marginal improvement in some scores by removing values at threshold 0\n",
    "    * There was marginal improvement in the top performing model Logistic Regression ~.4%\n",
    "    * Top model does not beat top \"counts\" model 71.80%\n",
    "* Takeaways\n",
    "    * It appears using relative word frequency to remove low value words yealds only marginal results at best when applied to TF-IDF vectorized data\n"
   ]
  },
  {
   "cell_type": "markdown",
   "id": "sized-translation",
   "metadata": {},
   "source": [
    "| Threshold       | Model               | Accuracy On Trian | Accuracy on Validate |\n",
    "|-----------------|---------------------|-------------------|----------------------|\n",
    "| Nothing Removed | Decision Tree       | 99.97%            | **61.58%**           |\n",
    "|   0             | Decision Tree       | 99.97%            | 61.08%               |\n",
    "|   5             | Decision Tree       | 99.94%            | 59.06%               |\n",
    "|  20             | Decision Tree       | 99.14%            | 61.01%               |\n",
    "|  50             | Decision Tree       | 90.90%            | 61.58%               |\n",
    "| 100             | Decision Tree       | 81.40%            | 57.34%               |\n",
    "\n",
    "| Threshold       | Model               | Accuracy On Trian | Accuracy on Validate |\n",
    "|-----------------|---------------------|-------------------|----------------------|\n",
    "| Nothing Removed | Random Forest       | 99.97%            | **70.00%**           |\n",
    "|   0             | Random Forest       | 99.97%            | 69.86%               |\n",
    "|   5             | Random Forest       | 99.94%            | 68.27%               |\n",
    "|  20             | Random Forest       | 99.14%            | 64.96%               |\n",
    "|  50             | Random Forest       | 90.90%            | 63.09%               |\n",
    "| 100             | Random Forest       | 81.40%            | 58.56%               |\n",
    "\n",
    "| Threshold       | Model               | Accuracy On Trian | Accuracy on Validate |\n",
    "|-----------------|---------------------|-------------------|----------------------|\n",
    "| Nothing Removed | K Neighbors         | 80.35%            | **67.63%**           |\n",
    "| 0               | K Neighbors         | 73.63%            | 50.07%               |\n",
    "| 5               | K Neighbors         | 86.21%            | 56.76%               |\n",
    "| 20              | K Neighbors         | 75.91%            | 59.42%               |\n",
    "| 50              | K Neighbors         | 70.57%            | 59.50%               |\n",
    "| 100             | K Neighbors         | 67.06%            | 60.86%               |\n",
    "\n",
    "\n",
    "| Threshold       | Model               | Accuracy On Trian | Accuracy on Validate |\n",
    "|-----------------|---------------------|-------------------|----------------------|\n",
    "| Nothing Removed | Logistic Regression | 88.25%            | **70.43%**           |\n",
    "| 0               | Logistic Regression | 87.11%            | 70.36%               |\n",
    "| 5               | Logistic Regression | 77.79%            | 70.00%               |\n",
    "| 20              | Logistic Regression | 70.85%            | 68.20%               |\n",
    "| 50              | Logistic Regression | 66.35%            | 66.62%               |\n",
    "| 100             | Logistic Regression | 63.63%            | 63.02%               |\n",
    "\n",
    "* Observations\n",
    "    * Removing word columns using document frequency does not improve any of the models when vectorizing using TF-IDF "
   ]
  },
  {
   "cell_type": "markdown",
   "id": "attractive-winner",
   "metadata": {},
   "source": [
    "# Choosing a Model  \n",
    "\n",
    "* Top Performing Model \n",
    "    * Uses count vectorized data\n",
    "    * Removes words using relative word frequency\n",
    "    * Uses a threshold of 0\n",
    "    * Is a Logistic Regression model\n",
    "    * Has an accuracy of 71.94% \n",
    "    * Beats Baseline by ~12%\n",
    "    \n",
    "* Runner-Up Model\n",
    "    * Uses Count vectorized data\n",
    "    * Does not remove words due to relative frequency \n",
    "        * For this reason will have a significantly shorter run time\n",
    "    * Is only ~.14% less accurate than the top model \n",
    " \n",
    "* Takeaways \n",
    "    * I have chosen the top performing model in terms of accuracy\n",
    "    * It's runtime will be considerably slower \n",
    "    * so in practice one will need to judge if the extra .14% accuracy is worth the extra run time"
   ]
  },
  {
   "cell_type": "markdown",
   "id": "ranking-argument",
   "metadata": {},
   "source": [
    "# Top Model Evaluated on Test"
   ]
  },
  {
   "cell_type": "code",
   "execution_count": null,
   "id": "historical-dream",
   "metadata": {},
   "outputs": [],
   "source": [
    "m.get_test_eval(dict(word_freq), train_counts, train_y, test_counts, test_y)"
   ]
  },
  {
   "cell_type": "markdown",
   "id": "severe-annotation",
   "metadata": {},
   "source": [
    "# Model Conclusions\n",
    "\n",
    "* Vectorized using count seems to outperform vectorizing using TF-IDF on this data\n",
    "    * Difference in accuracy was small\n",
    "* Removing low relative frequency words seems to outperform removing words with low document frequency\n",
    "    * Most models benefited from removing only 0 relative frequency words, a few showed a benefit at 5\n",
    "    * Difference in accuracy was small\n",
    "* Logistic Regression was the algorithm that produced the best result \n",
    "* The top model was able to predict with 72.56% on test data\n",
    "* At this time I do not recommend moving forward as I would like to see at least 80-90% accuracy form the model before doing so "
   ]
  },
  {
   "cell_type": "markdown",
   "id": "declared-efficiency",
   "metadata": {},
   "source": [
    "# Process Summary\n",
    "\n",
    "* Comedy was chosen as the test case to build a predictive model using the following criteria \n",
    "   * Representation in the data\n",
    "   * Number of unique words\n",
    "   * High number of unique words appearing in each description\n",
    "   * human intuitability\n",
    "* The comedy genre was explored \n",
    "    * Data Split\n",
    "        * Training data has a 60/40 split of comedy and non-comedy data \n",
    "            * This likely caused the relative frequency numbers to skew toward the negative\n",
    "    * Relative Frequency Distribution\n",
    "        * Both relative frequency metrics showed values that normalize close to zero\n",
    "        * This shows that a majority of words are not likely to be strong indicators of comedy \n",
    "        * Both metrics indicate a negative skew likely do to an imbalance in the data\n",
    "        * Word frequency seems to be more skewed than Document frequency\n",
    "    * Extreme Value Words\n",
    "        * Extreme positive values are much closer to zero than their negative counterparts and include words that are intuitively indicative of comedy such as comedy, comedian, and standup\n",
    "        * Extreme negative values are much farther from zero and do not include words that are intuitively indicative of non-comedy films\n",
    "        * This gives evidence that low value words may be common words that appear more frequently in non-comedy films due to the data imbalance\n",
    "        * This also gives evidence that high value words are likely to be strong indicators of comedy films due to surviving the imbalance and being intuitively indicative of comedy films \n",
    "* Methods were developed to predict comedy genre\n",
    "    * Pre-Modeling Predictions\n",
    "        * Predicting comedy using presence or number of unique words yielded disappointing results\n",
    "            * Presence of Unique Words\n",
    "                * Overall Accuracy 32%\n",
    "                * Override Accuracy 68%\n",
    "            * Number of Unique Words\n",
    "                * Overall Accuracy 49%\n",
    "                * Override Accuracy 67%\n",
    "            * Overall accuracy for both attempts were less than baseline\n",
    "            * Override accuracy for both attempts were above baseline but worse then the final model \n",
    "                * This means that using either method to override the predictions of the current model would in all likelihood yield less accurate predictions\n",
    "* Machine learning models were developed to predict comedy genre\n",
    "    * Top Performing Model \n",
    "        * Uses count vectorized data\n",
    "        * Removes words using relative word frequency\n",
    "        * Uses a threshold of 0\n",
    "        * Is a Logistic Regression model\n",
    "        * Has an accuracy of 72.56% on test data \n",
    "        * Beats Baseline by  12.56%\n",
    "    * Count vectorized data seems to outperform TF-IDF data by a small margin\n",
    "    * Removing word features due to low word frequency seems to outperform removing word features do to low document frequency by a small margin\n",
    "    * At this time I do not recommend moving forward as I would like to see at least 80-90% accuracy form the model before doing so "
   ]
  },
  {
   "cell_type": "markdown",
   "id": "useful-ladder",
   "metadata": {},
   "source": [
    "# Next Steps\n",
    "\n",
    "* At this time the accuracy of the best performing model stands at 72.56% \n",
    "* I would prefer to see an accuracy of 80-90% before moving on the the next stage of packaging the model to make similar predictions of all of the other genres\n",
    "* Reccomendations for next steps next steps is to focus on prodousing a more accurate model\n",
    "    * Focus on Logistic Regression models\n",
    "        * This model was consistently the highest performer on its default settings\n",
    "        * I might be able to get some extra accuracy by adjusting its hyperparameters\n",
    "    * Focus on count vectorized Data\n",
    "        * This type of vectorization seems to result in slightly higher accuracy than TF-IDF\n",
    "    * Focus on Relative frequency by word count\n",
    "        * Removing word features with a low relative word frequency resulted in a small boost to the final models accuracy\n",
    "        * It also seems to have a slightly better effect on accuracy than using relative document frequency\n",
    "        * Normalize relative frequency values to account for skews in the data\n",
    "    * Rethink non-modeling approach to predictions\n",
    "        * Instead of using unique words predict values using by adding the relative frequency numbers of all of the words in the description\n",
    "            * positive results would be predicted as comedy\n",
    "            * negative results would be predicted as non-comedy  \n",
    "    * Review model evaluation code for inefficiencies to address the evaluation run time issues\n",
    "    * Try tests on a different genre to see to they produce similar results\n",
    "* Once model accuracy can be confirmed at 80% or higher on at least one genre the next step is to create a pipeline to acquire, prepare, build and evaluate models that predict True/False for each genre in the dataset and evaluate the accuracy of models that are prepared as a part of this pipeline"
   ]
  },
  {
   "cell_type": "code",
   "execution_count": null,
   "id": "civic-prague",
   "metadata": {},
   "outputs": [],
   "source": []
  }
 ],
 "metadata": {
  "kernelspec": {
   "display_name": "Python 3",
   "language": "python",
   "name": "python3"
  },
  "language_info": {
   "codemirror_mode": {
    "name": "ipython",
    "version": 3
   },
   "file_extension": ".py",
   "mimetype": "text/x-python",
   "name": "python",
   "nbconvert_exporter": "python",
   "pygments_lexer": "ipython3",
   "version": "3.7.4"
  }
 },
 "nbformat": 4,
 "nbformat_minor": 5
}
