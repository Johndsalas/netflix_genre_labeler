{
 "cells": [
  {
   "cell_type": "markdown",
   "id": "located-solid",
   "metadata": {},
   "source": [
    "# Goal\n",
    "* Choose a genre as a test case\n",
    "\n",
    "* Develop a method or model for predicting if a given film is in the test genre based on its Netflix description\n",
    "\n",
    "* Evaluate accuracy of the top model and decide if it is high enough to proceed to the next step of creating a pipeline to acquire, prepare, create and evaluate a model that predicts True/False for each genre in the dataset for each "
   ]
  },
  {
   "cell_type": "code",
   "execution_count": 1,
   "id": "southeast-mineral",
   "metadata": {},
   "outputs": [],
   "source": [
    "# Imports\n",
    "\n",
    "import pandas as pd\n",
    "import numpy as np\n",
    "\n",
    "import matplotlib.pyplot as plt\n",
    "import seaborn as sns\n",
    "import os\n",
    "import re\n",
    "\n",
    "import unicodedata\n",
    "import nltk\n",
    "from nltk.tokenize.toktok import ToktokTokenizer\n",
    "from nltk.corpus import stopwords\n",
    "\n",
    "import sklearn.preprocessing\n",
    "from sklearn.tree import DecisionTreeClassifier\n",
    "from sklearn.ensemble import RandomForestClassifier\n",
    "from sklearn.neighbors import KNeighborsClassifier\n",
    "from sklearn.linear_model import LogisticRegression\n",
    "from sklearn.model_selection import train_test_split\n",
    "from sklearn.feature_extraction.text import CountVectorizer\n",
    "from sklearn.feature_extraction.text import TfidfVectorizer\n",
    "\n",
    "import warnings\n",
    "warnings.filterwarnings(\"ignore\")\n",
    "\n",
    "import wrangle as w\n",
    "import explore as e\n",
    "import model as m"
   ]
  },
  {
   "cell_type": "markdown",
   "id": "protecting-ethics",
   "metadata": {},
   "source": [
    "# Wrangle\n",
    "\n",
    "* Data acquired from [Kaggle](https://www.kaggle.com/datasets/victorsoeiro/netflix-tv-shows-and-movies?select=titles.csv)\n",
    "\n",
    "* Each row in the data represents a show appearing on Netflix at the time data was collected\n",
    "* Columns were restricted to description and genre\n",
    "* The following modifications were made when cleaning the text in description\n",
    "     * Converted to lowercase\n",
    "     * Special characters removed\n",
    "     * Remove non-ascii characters\n",
    "     * Lemmatize tokens\n",
    "     * Remove stop words using standard list plus two letter words\n",
    "* Boolean columns for each genre appearing in the genres column were added \n",
    "     * These columns indicate if the show belonged to that genre\n",
    "* Dataset contains 5791 rows after being prepared \n",
    "* full dataset was split into train, validate and test sets \n",
    "     * Train set contains 3242 rows\n",
    "     * Validate set contains 1390 rows\n",
    "     * Test set contains 1159 rows"
   ]
  },
  {
   "cell_type": "code",
   "execution_count": 2,
   "id": "atomic-omega",
   "metadata": {},
   "outputs": [
    {
     "name": "stdout",
     "output_type": "stream",
     "text": [
      "Train set contains 3242 rows of data\n",
      "Validate set contains 1390 rows of data\n",
      "Test set contains 1159 rows of data\n"
     ]
    }
   ],
   "source": [
    "#acquire and prepare data\n",
    "df = w.get_show_data()\n",
    "\n",
    "# split data into train, validate and prep\n",
    "train, validate, test = w.split_my_data(df)\n",
    "\n",
    "# print number ow rows in train\n",
    "print(f\"Train set contains {train.shape[0]} rows of data\")\n",
    "print(f\"Validate set contains {validate.shape[0]} rows of data\")\n",
    "print(f\"Test set contains {test.shape[0]} rows of data\")"
   ]
  },
  {
   "cell_type": "markdown",
   "id": "latter-assistant",
   "metadata": {},
   "source": [
    "# Explore\n",
    "\n",
    "## 1. Choose a genre as a test case using the following criteria:\n",
    "   * Genre has large representation in the data\n",
    "   * Genre has a large number of unique words\n",
    "   * Genre has a high number of unique words appearing in each description\n",
    "   * Genre is relatively easy for a human to intuit \n",
    "\n",
    "## 2. Explore the chosen genre:\n",
    "   * How much of the data is represented by the chosen genre?\n",
    "   * What is the distribution of word and document frequency for the chosen genre?\n",
    "   * What words have the highest and lowest word and document frequency?\n",
    "   * Is it possible to predict the chosen genre using unique words?"
   ]
  },
  {
   "cell_type": "code",
   "execution_count": 3,
   "id": "small-ocean",
   "metadata": {},
   "outputs": [],
   "source": [
    "# get set of genres\n",
    "gen_set = e.get_gens(train)\n",
    "\n",
    "# get relative word frequency list and list of only the numbers\n",
    "word_freq = e.get_word_freq(train)\n",
    "word_counts = e.get_counts(word_freq)\n",
    "\n",
    "# get relative document frequency list and list of only the numbers\n",
    "doc_freq = e.get_doc_freq(train)\n",
    "doc_counts = e.get_counts(doc_freq)"
   ]
  },
  {
   "cell_type": "markdown",
   "id": "minimal-stability",
   "metadata": {},
   "source": [
    "## 1. Choose a Test Case "
   ]
  },
  {
   "cell_type": "markdown",
   "id": "wireless-cycle",
   "metadata": {},
   "source": [
    "### What is the distribution of genres in the train data?"
   ]
  },
  {
   "cell_type": "code",
   "execution_count": 4,
   "id": "golden-portable",
   "metadata": {},
   "outputs": [
    {
     "data": {
      "image/png": "[encoded data removed]",
      "text/plain": [
       "<Figure size 432x288 with 1 Axes>"
      ]
     },
     "metadata": {
      "needs_background": "light"
     },
     "output_type": "display_data"
    }
   ],
   "source": [
    "# display distribution of genres\n",
    "shows_per_gen = e.get_shows_per_gen(train, gen_set)\n",
    "e.get_bar(shows_per_gen, \"Top 5 Genres by Number of Films\")"
   ]
  },
  {
   "cell_type": "markdown",
   "id": "consistent-cartridge",
   "metadata": {},
   "source": [
    "* Comedy and Drama are by far the most highly represented genres in the training data."
   ]
  },
  {
   "cell_type": "markdown",
   "id": "governmental-scenario",
   "metadata": {},
   "source": [
    "### How many different unique words appear in each genre? \n",
    "\n",
    "* Unique Words are words that appear in the descriptions of films in a given genre and do not appear in descriptions of films that are not in that genre"
   ]
  },
  {
   "cell_type": "code",
   "execution_count": 5,
   "id": "junior-receipt",
   "metadata": {
    "scrolled": false
   },
   "outputs": [
    {
     "data": {
      "image/png": "[encoded data removed]",
      "text/plain": [
       "<Figure size 432x288 with 1 Axes>"
      ]
     },
     "metadata": {
      "needs_background": "light"
     },
     "output_type": "display_data"
    }
   ],
   "source": [
    "# display number of different unique words in each genre\n",
    "unique_words_per_gen = e.get_unique_words_per_gen(train, gen_set)\n",
    "e.get_bar(shows_per_gen, \"Top 5 Genres by Number of Unique Words\")"
   ]
  },
  {
   "cell_type": "markdown",
   "id": "indie-intelligence",
   "metadata": {},
   "source": [
    "* Comedy and Drama contain by far the largest number of differint unique words"
   ]
  },
  {
   "cell_type": "markdown",
   "id": "engaged-vegetarian",
   "metadata": {},
   "source": [
    "### What is the average number of times unique words appear in descriptions of each genre?"
   ]
  },
  {
   "cell_type": "code",
   "execution_count": 6,
   "id": "frozen-choice",
   "metadata": {},
   "outputs": [
    {
     "data": {
      "image/png": "[encoded data removed]",
      "text/plain": [
       "<Figure size 432x288 with 1 Axes>"
      ]
     },
     "metadata": {
      "needs_background": "light"
     },
     "output_type": "display_data"
    }
   ],
   "source": [
    "# get frequency of unique words pre genre\n",
    "unique_word_appearance_per_genre = e.get_unique_word_appearance_per_genre(train, gen_set)\n",
    "e.get_bar(unique_word_appearance_per_genre, \"Top 5 Genres by Average Number of Unique Words per Description\")"
   ]
  },
  {
   "cell_type": "markdown",
   "id": "amended-principal",
   "metadata": {},
   "source": [
    "* Not a great deal of variance in unique word appearance frequency\n",
    "* Animation has the highest appearance frequency\n",
    "* Comedy and Drama are close behind"
   ]
  },
  {
   "cell_type": "markdown",
   "id": "intimate-coverage",
   "metadata": {},
   "source": [
    "## Test Case Conclusion\n",
    "\n",
    "* Comedy and Drama have high values in all of the testable criteria\n",
    "   * Representation in the data\n",
    "   * Number of unique words\n",
    "   * High number of unique words appearing in each description\n",
    "* Either genre would make a reasonable choice\n",
    "* The last criteria is how easily the genre would be to intuit for a human\n",
    "    * Comedy seems to me the earlier of the two genres for a human to intuit \n",
    "\n",
    "**For these reasons I am choosing comedy as the test case for this project**"
   ]
  },
  {
   "cell_type": "markdown",
   "id": "alert-floating",
   "metadata": {},
   "source": [
    "## 2) Explore the Comedy Genre\n",
    "\n",
    "* What percent of the data is classified as a Comedy?\n",
    "* What does the relative occurrence of words in comedy or non-comedy films tell us?"
   ]
  },
  {
   "cell_type": "markdown",
   "id": "asian-divide",
   "metadata": {},
   "source": [
    "## How much of the data is Comedy?"
   ]
  },
  {
   "cell_type": "code",
   "execution_count": 7,
   "id": "fantastic-edwards",
   "metadata": {
    "scrolled": true
   },
   "outputs": [
    {
     "data": {
      "image/png": "[encoded data removed]",
      "text/plain": [
       "<Figure size 432x288 with 1 Axes>"
      ]
     },
     "metadata": {},
     "output_type": "display_data"
    }
   ],
   "source": [
    "e.omni_pie(train.comedy, \"40% of the Training Data are Comedy Titles\")"
   ]
  },
  {
   "cell_type": "markdown",
   "id": "proud-makeup",
   "metadata": {},
   "source": [
    "## What does the relative occurrence of words in comedy or non-comedy films tell us?\n",
    "\n",
    "I will look at two separate measures:\n",
    "* **Relative Word Frequency**\n",
    "    * Calculated by adding the number of times a given word appears in comedy film descriptions and subtracting the number of times that word appears in non-comedy film descriptions\n",
    "* **Relative Document Frequency**\n",
    "    * Calculated by adding the number of comedy descriptions a given word appears in and subtracting the number of non-comedy films the word appears in"
   ]
  },
  {
   "cell_type": "code",
   "execution_count": 8,
   "id": "fixed-chocolate",
   "metadata": {
    "scrolled": false
   },
   "outputs": [
    {
     "data": {
      "image/png": "[encoded data removed]",
      "text/plain": [
       "<Figure size 1080x360 with 1 Axes>"
      ]
     },
     "metadata": {
      "needs_background": "light"
     },
     "output_type": "display_data"
    }
   ],
   "source": [
    "e.get_hist(word_counts,\"Distribution of Relative Word Frequency Values\",\"Relative Word Frequency\")"
   ]
  },
  {
   "cell_type": "markdown",
   "id": "extra-stone",
   "metadata": {},
   "source": [
    "* Observations:\n",
    "    * Majority of the data is between -5 and positive 5\n",
    "    * There is a negative skew to the data likely due to a 60/40 imbalance in the data\n",
    "    \n",
    "* Takeaways:\n",
    "    * There are a lot of numbers at values close to zero. This shows that there are a large number of words that are not strongly indicative of comedy or non-comedy. Removing these \"low value\" numbers may reduce noise in the model\n",
    "    * Because the data is so focused around the 5 to - 5 mark I will concentrate on that range to remove potential noise\n",
    "    * Because of the negative skew in the data words that have a high negative value may have it due the data imbalance meaning they are not true indicators of non_comedy films\n",
    "    * Because the skew favors negative values it is more likely that words with positive values are true indicators of comedy films \n",
    "    "
   ]
  },
  {
   "cell_type": "code",
   "execution_count": 9,
   "id": "interesting-upper",
   "metadata": {},
   "outputs": [
    {
     "data": {
      "image/png": "[encoded data removed]",
      "text/plain": [
       "<Figure size 1080x360 with 1 Axes>"
      ]
     },
     "metadata": {
      "needs_background": "light"
     },
     "output_type": "display_data"
    }
   ],
   "source": [
    "e.get_hist(doc_counts, \"Distribution of Relative Document Frequency Values\",\"Relative Document Frequency\")"
   ]
  },
  {
   "cell_type": "markdown",
   "id": "described-advance",
   "metadata": {},
   "source": [
    "* Observations:\n",
    "    * Majority of the data is between -5 and positive 5\n",
    "    * There is a negative skew to the data likely due to a 60/40 imbalance in the data\n",
    "    \n",
    "* Takeaways:\n",
    "    * There are a lot of numbers at values close to zero. This shows that there are a large number of words that are not strongly indicative of comedy or non-comedy. Removing these \"low value\" numbers may reduce noise in the model\n",
    "     * Because the data is so focused around the 5 to - 5 mark I will concentrate on that range to remove potential noise\n",
    "    * Because of the negative skew in the data, words that have a high negative value may have it due the data imbalance meaning they are not true indicators of non_comedy films\n",
    "    * Because the skew favors negative values it is more likely that words with positive values are true indicators of comedy films "
   ]
  },
  {
   "cell_type": "markdown",
   "id": "compound-fantasy",
   "metadata": {},
   "source": [
    "## What do the most extreme 15 most extreme positive and negative frequency values tell us?"
   ]
  },
  {
   "cell_type": "code",
   "execution_count": 10,
   "id": "necessary-cover",
   "metadata": {
    "scrolled": false
   },
   "outputs": [
    {
     "data": {
      "image/png": "[encoded data removed]",
      "text/plain": [
       "<Figure size 864x432 with 2 Axes>"
      ]
     },
     "metadata": {
      "needs_background": "light"
     },
     "output_type": "display_data"
    }
   ],
   "source": [
    "e.display_ext_values(dict(word_freq[:15]),\"Top 15 Most Extreme Negative Word Frequency Values\", dict(word_freq[-15:]), \"Top 15 Most Extreme Positive Word Frequency Values\",\"Word Frequency Value\", \"Word\", 300)"
   ]
  },
  {
   "cell_type": "markdown",
   "id": "minus-headline",
   "metadata": {},
   "source": [
    "* Observations\n",
    "    * Extreme positive values are much closer to zero than their negative counterparts and include words that are intuitively indicative of comedy such as comedy, comedian, and standup\n",
    "    * Extreme negative values are much farther from zero and do not include words that are intuitively indicative of non-comedy films\n",
    "* Takeaways\n",
    "    * This gives further evidence that low value words may be common words that appear more frequently in non-comedy films due to data imbalance\n",
    "    * This also gives further evidence that high value words are likely to be strong indicators of comedy films due to surviving the imbalance and being intuitively indicative of comedy films "
   ]
  },
  {
   "cell_type": "code",
   "execution_count": 11,
   "id": "optional-jerusalem",
   "metadata": {
    "scrolled": false
   },
   "outputs": [
    {
     "data": {
      "image/png": "[encoded data removed]",
      "text/plain": [
       "<Figure size 864x432 with 2 Axes>"
      ]
     },
     "metadata": {
      "needs_background": "light"
     },
     "output_type": "display_data"
    }
   ],
   "source": [
    "e.display_ext_values(dict(doc_freq[:15]), \"Top 15 Most Extreme Negative Document Frequency Values\", dict(doc_freq[-15:]), \"Top 15 Most Extreme Positive Document Frequency Values\", \"Document Frequency Value\", \"Word\", 300)"
   ]
  },
  {
   "cell_type": "markdown",
   "id": "forward-anger",
   "metadata": {},
   "source": [
    "* Observations\n",
    "    * Exteme positive values are much closer to zero than their negative counterparts and include words that are intuitively indicative of comedy such as comedy, comedian, and standup\n",
    "    * Extreme negative values are much farther from zero and do not include words that are intuitively indicative of non-comedy films\n",
    "* Takeaways\n",
    "    * This gives evidence that low value words may be common words that appear more frequently in non-comedy films due to the data imbalance\n",
    "    * This also gives further evidence that high value words are likely to be strong indicators of comedy films due to surviving the imbalance and being intuitivly indicative of comedy films "
   ]
  },
  {
   "cell_type": "markdown",
   "id": "cosmetic-bailey",
   "metadata": {},
   "source": [
    "## Exploration Summary\n",
    "\n",
    "* Data Split\n",
    "    * Training data has a 60/40 split of comedy and non-comedy data\n",
    "* Relative Frequency Distribution\n",
    "    * Relative frequency metrics both showed that values normalize around values close to zero. Values close to or at zero are likely not indicative of whether a film is comedy or non-comedy. Removing these values will likely reduce noise in the model\n",
    "    * Both metrics indicate a negative skew likely do to an imbalance in the data\n",
    "    * Word frequency seems to be more skewed than Document frequency\n",
    "* Extreme Value Words\n",
    "    * Extreme positive values are much closer to zero than their negative counterparts and include words that are intuitively indicative of comedy such as comedy, comedian, and standup\n",
    "    * Extreme negative values are much farther from zero and do not include words that are intuitively indicative of non-comedy films\n",
    "    * This gives evidence that low value words may be common words that appear more frequently in non-comedy films due to the data imbalance\n",
    "    * This also gives evidence that high value words are likely to be strong indicators of comedy films due to surviving the imbalance and being intuitively indicative of comedy films "
   ]
  },
  {
   "cell_type": "markdown",
   "id": "interracial-atlas",
   "metadata": {},
   "source": [
    "# Predictions Using Unique Words\n",
    "\n",
    "On average 4 or more unique words will appear in the description of each comedy film. Based on this I will test whether I can predict if a film is a comedy or non-comedy by using the presence or absence of unique words. I will use the following method:\n",
    "\n",
    "* Unique words for comedy and non-comedy will be identified using train data and used to predict validate data\n",
    "* Values will be assigned to each prediction according the presence/number of unique comedy and non-comedy words\n",
    "* Prediction methods will be evaluated in terms of overall accuracy and override accuracy\n",
    "    * Overall Accuracy = total correct predictions / total attempted predictions\n",
    "        * Non-Boolean results will count as missed predictions\n",
    "    * Override Accuracy = total correct True or False predictions / Total True or False predictions\n",
    "        * Non-Boolean results will not be considered\n",
    "* I will use two methods of prediction:\n",
    "    * Presence of unique words\n",
    "        * Has unique words for comedy and no unique words for non-comedy = True\n",
    "        * Has unique words for non-comedy and no unique words for comedy = False\n",
    "        * Has both = Has Both \n",
    "        * Has neither = Contains Neither\n",
    "    * Majority of unique words\n",
    "        * Has more comedy unique words than non-comedy unique words = True\n",
    "        * Has more non-comedy unique words than comedy unique words = False\n",
    "        * Has an equal number of comedy and non-comedy unique words = Equal Count\n",
    "        * Has neither = Has Neither\n",
    "* Due to the 60/40 split in the data I am setting the baseline accuracy of 60% \n",
    "\n",
    "If the overall accuracy of this prediction method is high enough it could be used as an alternative to traditional modeling. If override accuracy beats a given model's overall accuracy it could be used in conjunction with traditional modeling to override model results where the prediction method produces a boolean result.\n"
   ]
  },
  {
   "cell_type": "code",
   "execution_count": 12,
   "id": "caroline-disaster",
   "metadata": {},
   "outputs": [],
   "source": [
    "# get set of words occuring in comedy and non-comedy descriptions\n",
    "com_train = e.get_description_set_of_words(train[train.comedy == True])\n",
    "non_train = e.get_description_set_of_words(train[train.comedy == False])\n",
    "\n",
    "# get set of words appearing in only comedy or non-comedy descriptions\n",
    "com_unique_train = com_train.difference(non_train)\n",
    "non_unique_train = non_train.difference(com_train)\n",
    "\n",
    "# get train and validate dataframes with only description and comedy columns\n",
    "train_evaluation_df = train[['description','comedy']]\n",
    "validate_evaluation_df = validate[['description','comedy']]"
   ]
  },
  {
   "cell_type": "markdown",
   "id": "experimental-punch",
   "metadata": {},
   "source": [
    "# Sanity Test - Predicting Train Using Presence of Unique Words "
   ]
  },
  {
   "cell_type": "code",
   "execution_count": 13,
   "id": "moral-requirement",
   "metadata": {},
   "outputs": [
    {
     "name": "stdout",
     "output_type": "stream",
     "text": [
      "Prediction Value Counts\n",
      "-----------------------\n",
      "False               1837\n",
      "True                1168\n",
      "contains niether     237\n",
      "Name: prediction, dtype: int64\n",
      "\n",
      "Evaluation Results\n",
      "-----------------------\n",
      "True     3005\n",
      "False     237\n",
      "Name: evaluation, dtype: int64\n",
      "\n",
      "Overall Accuracy\n",
      "-----------------------\n",
      "93.0\n",
      "\n",
      "Override Accuracy\n",
      "-----------------------\n",
      "100.0\n"
     ]
    }
   ],
   "source": [
    "m.get_predictions_presence(train_evaluation_df, com_unique_train, non_unique_train)"
   ]
  },
  {
   "cell_type": "markdown",
   "id": "hydraulic-patch",
   "metadata": {},
   "source": [
    "* Sanity Test performed as expected \n",
    "* This method produced the same number of incorrect predictions and contains neither results giving evidence that\n",
    "    * All of the train data cases that contain unique words for either comedy or non-comedy correctly identified \n",
    "    * Those that did not were classified as contains neither "
   ]
  },
  {
   "cell_type": "markdown",
   "id": "compact-petite",
   "metadata": {},
   "source": [
    "# Predicting Validate Using Presence of Unique Words "
   ]
  },
  {
   "cell_type": "code",
   "execution_count": 14,
   "id": "described-calcium",
   "metadata": {},
   "outputs": [
    {
     "name": "stdout",
     "output_type": "stream",
     "text": [
      "Prediction Value Counts\n",
      "-----------------------\n",
      "contains both       512\n",
      "False               486\n",
      "contains niether    213\n",
      "True                179\n",
      "Name: prediction, dtype: int64\n",
      "\n",
      "Evaluation Results\n",
      "-----------------------\n",
      "False    941\n",
      "True     449\n",
      "Name: evaluation, dtype: int64\n",
      "\n",
      "Overall Accuracy\n",
      "-----------------------\n",
      "32.0\n",
      "\n",
      "Override Accuracy\n",
      "-----------------------\n",
      "68.0\n"
     ]
    }
   ],
   "source": [
    "m.get_predictions_presence(validate_evaluation_df, com_unique_train, non_unique_train)"
   ]
  },
  {
   "cell_type": "markdown",
   "id": "spoken-bottom",
   "metadata": {},
   "source": [
    "* Overall Accuracy is very poor due to a large number of films that either contained unique words from both comedy and non-comedy or contained no unique words\n",
    "* Even when considering only True/False predictions Override accuracy is only 8% above baseline\n",
    "* I do not recommend using this method of prediction"
   ]
  },
  {
   "cell_type": "markdown",
   "id": "suitable-commitment",
   "metadata": {},
   "source": [
    "# Predicting Validate Using Number of Unique Words "
   ]
  },
  {
   "cell_type": "code",
   "execution_count": 15,
   "id": "standard-rwanda",
   "metadata": {},
   "outputs": [
    {
     "name": "stdout",
     "output_type": "stream",
     "text": [
      "Prediction Value Counts\n",
      "-----------------------\n",
      "False          739\n",
      "equal count    379\n",
      "True           272\n",
      "Name: prediction, dtype: int64\n",
      "\n",
      "Evaluation Results\n",
      "-----------------------\n",
      "False    708\n",
      "True     682\n",
      "Name: evaluation, dtype: int64\n",
      "\n",
      "Overall Accuracy\n",
      "-----------------------\n",
      "49.0\n",
      "\n",
      "Override Accuracy\n",
      "-----------------------\n",
      "67.0\n"
     ]
    }
   ],
   "source": [
    "m.get_predictions_number(validate_evaluation_df, com_unique_train, non_unique_train)"
   ]
  },
  {
   "cell_type": "markdown",
   "id": "polished-april",
   "metadata": {},
   "source": [
    "* Overall Accuracy improves, but is still below baseline. Increase is likely due to increasing the number of True/False predictions it could make.\n",
    "    * 512 predictions were lost in the previous method because they contained both types of unique words\n",
    "    * 213 predictions were lost in the previous method because they contained no unique words\n",
    "    * 725 predictions were lost all together the\n",
    "    * 317 predictions were lost in the current method due to having an equal number of comedy and non-comedy unique words\n",
    "    * 408 additional predictions were made using this method\n",
    "* Override Accuracy is slightly worse using this method at 7% above baseline\n"
   ]
  },
  {
   "cell_type": "markdown",
   "id": "hollywood-sodium",
   "metadata": {},
   "source": [
    "## Predicting Using Unique Words Conclusion\n",
    "\n",
    "* Baseline 60% \n",
    "* Predicting on Presence of Unique Words \n",
    "    * Overall Accuracy of 32% is far below baseline\n",
    "    * Override Accuracy of 68% is slightly better than baseline\n",
    "        * If a given model's accuracy is less I would consider using this method as an override if the overridden model is less than 68% accurate.\n",
    "* Predicting on Number of Unique Words\n",
    "    * Overall Accuracy of 49% is far below baseline\n",
    "    * Override Accuracy of 67% is worse than predicting on presence alone\n",
    "        * If a given model's accuracy is less I would consider using this method as an override if the overridden model is less than 67% accurate.\n",
    "* Takeaways\n",
    "    * At the moment I do not recommend using either method to make predictions\n",
    "        * Overall accuracy is below baseline on both\n",
    "        * Using it as an override is only useful if the model being overridden is predicting less accurately than the method, and I don't think a model that predicts less accurately than either of these methods should be moved forward with\n",
    "    * Adjustments may be possible\n",
    "        * Perhaps predicting based on totaling the relative frequency of each word in the description would yield better results\n",
    "            * I would need to adjust how relative frequency is measured to avoid skewing the results due to data imbalance\n",
    "                * perhaps using percentage of appearances instead of number of appearances.\n"
   ]
  },
  {
   "cell_type": "markdown",
   "id": "statewide-rabbit",
   "metadata": {},
   "source": [
    "# Modeling\n",
    "\n",
    "* I will examine two types of vectorization arrays\n",
    "   * Count - Each word is assigned a number value for each film counting the number of times it appears in the description\n",
    "   * TF-IDF - Each word is assigned a number value for each film in a calculation which lowers the value based on the number of descriptions in the data it appears in and raises the value based on the number of times the word appears in the description of the film\n",
    "* I will examine feature engineering using relative frequency\n",
    "    * I will examine two different measures\n",
    "        * Relative frequency by total number of times the word appears in all documents (film descriptions)\n",
    "        * Relative frequency by number of documents (film descriptions) that contain the word\n",
    "    * I will choose a threshold for removal\n",
    "    * Words with a relative frequency between negative threshold and threshold will be removed \n",
    "    * Results of predictions made using different machine learning models will be compared before removing any columns and after removing columns at different thresholds\n",
    "        * Thresholds used will be 0, 5, 20, 50, and 100\n",
    "* I will examine results of different machine learning models\n",
    "    * Decision Tree\n",
    "    * Random Forest\n",
    "    * K Nearest Neighbors\n",
    "    * Logistic Regression\n",
    "* Models will be evaluated in terms of overall accuracy \n",
    "* Because of the 60/40 split in the data baseline will be set at 60%\n",
    "\n",
    "## Note !\n",
    "\n",
    "* Model evaluations take a long time to run! For this reason the code that runs the evaluations in the notebook has been commented out and replaced with Markdown table displaying the results and formatted for ease of comparison. Feel free to uncomment that code in your cloned notebook to run the model results for yourself."
   ]
  },
  {
   "cell_type": "code",
   "execution_count": 16,
   "id": "endless-twelve",
   "metadata": {},
   "outputs": [],
   "source": [
    "# seperate train, validate and test data into X (description) and y (comedy)\n",
    "train_X = train[['description']].reset_index(drop=True)\n",
    "train_y = train[['comedy']].reset_index(drop=True)\n",
    "\n",
    "validate_X = validate[['description']].reset_index(drop=True)\n",
    "validate_y = validate[['comedy']].reset_index(drop=True)\n",
    "\n",
    "test_X = test[['description']].reset_index(drop=True)\n",
    "test_y = test[['comedy']].reset_index(drop=True)"
   ]
  },
  {
   "cell_type": "markdown",
   "id": "incredible-angel",
   "metadata": {},
   "source": [
    "## Count Analysis - Full Vectorization Array"
   ]
  },
  {
   "cell_type": "code",
   "execution_count": 17,
   "id": "recovered-boards",
   "metadata": {},
   "outputs": [],
   "source": [
    "# vectorize discriptions using counts\n",
    "train_counts, validate_counts, test_counts = m.get_vectorized_data(train_X, validate_X, test_X, CountVectorizer())"
   ]
  },
  {
   "cell_type": "code",
   "execution_count": 18,
   "id": "brown-enemy",
   "metadata": {},
   "outputs": [
    {
     "name": "stdout",
     "output_type": "stream",
     "text": [
      "| Threshold |        Model        | Accuracy On Trian | Accuracy on Validate |\n",
      " ----------------------------------------------------------------------------\n",
      "|    one    | Logistic Regression |       78.97       |        56.89         |\n"
     ]
    }
   ],
   "source": [
    "print(\"| Threshold |        Model        | Accuracy On Trian | Accuracy on Validate |\")\n",
    "print(\" ----------------------------------------------------------------------------\")\n",
    "print(\"|{0:^11}|{1:^21}|{2:^19}|{3:^22}|\".format(\"one\", \"Logistic Regression\", 78.97, 56.89 ))"
   ]
  },
  {
   "cell_type": "code",
   "execution_count": 52,
   "id": "expressed-argentina",
   "metadata": {},
   "outputs": [],
   "source": [
    "def evaluate_model(train_X, train_y, validate_X, validate_y, clf, label, threshold):\n",
    "    ''' Evaluates Model on train and validate and prints line of evaluation chart'''\n",
    "    \n",
    "    obj = clf.fit(train_X, train_y)\n",
    "\n",
    "    train_score = obj.score(train_X, train_y)\n",
    "    train_score = str(round(train_score * 100, 2)) + \"%\"\n",
    "\n",
    "    validate_score = obj.score(validate_X, validate_y)\n",
    "    validate_score = str(round(validate_score * 100, 2)) + \"%\"\n",
    "\n",
    "    print(\"| {0:^9} | {1:^21}|{2:^19}|{3:^22}|\".format(\"N/A\", label, train_score, validate_score))\n",
    "    \n",
    "    \n",
    "def remove_low_freq(df_X, freq_dict, threshold):\n",
    "    ''' Restricts columns in vectorized df to those that have an relative frequency grater than threshold numbers from zero'''\n",
    "    \n",
    "    df_cols = list(df_X.columns)\n",
    "\n",
    "    new_cols = [col for col in df_cols if abs(freq_dict[col]) > threshold]\n",
    " \n",
    "    return df_X[new_cols]\n",
    "\n",
    "\n",
    "def get_acc_table(train_X, train_y, validate_X, validate_y, freq_dict):\n",
    "    ''' take in train data split into X and y, Validate data split into X and y\n",
    "        print table of accuracy scores for train and validate data when run on each classifier in the list'''\n",
    "\n",
    "    # List of classifiers and labels\n",
    "    clf_lst = [DecisionTreeClassifier(random_state = 411),\n",
    "               RandomForestClassifier(random_state = 411),\n",
    "               KNeighborsClassifier(),\n",
    "               LogisticRegression(random_state = 411)]\n",
    "    \n",
    "    label_lst = [\"Decision Tree \",\n",
    "                 \"Random Forest \",\n",
    "                 \"K Neighbors \",\n",
    "                 \"Logistic Regression\"]\n",
    "    \n",
    "    index = 0\n",
    "\n",
    "    # print beginning of table\n",
    "    print()\n",
    "    print(\" _____________________________________________________________________________ \")\n",
    "    print(\"| Threshold |        Model         | Accuracy On Trian | Accuracy on Validate |\")\n",
    "    print(\" ----------------------------------------------------------------------------- \")\n",
    "\n",
    "    # Itterate through classifiers and evaluate each on train and validate \n",
    "    # Then print results in a table \n",
    "    for clf in clf_lst:\n",
    "\n",
    "        # Evaluate model with full vectorized data\n",
    "        label = label_lst[index]\n",
    "        \n",
    "        threshold = \"N/A\"\n",
    "        \n",
    "        # Build evaluate and print results of model in table\n",
    "        evaluate_model(train_X, train_y, validate_X, validate_y, clf, label, threshold)\n",
    "\n",
    "        # Itterate through thresholds \n",
    "        for thresh in [0, 1, 2, 3, 4, 5]:\n",
    "            \n",
    "            threshold = thresh\n",
    "            \n",
    "            train_X = remove_low_freq(train_X, freq_dict, threshold)\n",
    "            validate_X = remove_low_freq(validate_X, freq_dict, threshold)\n",
    "            \n",
    "            # Build evaluate and print results of model in table\n",
    "            evaluate_model(train_X, train_y, validate_X, validate_y, label, threshold)\n",
    "            \n",
    "    index += 1  "
   ]
  },
  {
   "cell_type": "code",
   "execution_count": 51,
   "id": "frequent-cable",
   "metadata": {},
   "outputs": [
    {
     "name": "stdout",
     "output_type": "stream",
     "text": [
      "\n",
      " _____________________________________________________________________________ \n",
      "| Threshold |        Model         | Accuracy On Trian | Accuracy on Validate |\n",
      " ----------------------------------------------------------------------------- \n",
      "|    N/A    |    Decision Tree     |      99.97%       |        63.88%        |\n"
     ]
    },
    {
     "ename": "TypeError",
     "evalue": "evaluate_model() missing 1 required positional argument: 'threshold'",
     "output_type": "error",
     "traceback": [
      "\u001b[0;31m---------------------------------------------------------------------------\u001b[0m",
      "\u001b[0;31mTypeError\u001b[0m                                 Traceback (most recent call last)",
      "\u001b[0;32m<ipython-input-51-4fa1c964ebf6>\u001b[0m in \u001b[0;36m<module>\u001b[0;34m\u001b[0m\n\u001b[1;32m      1\u001b[0m \u001b[0;31m# runs model evaluations, uncomment the following to run the model evaluations for yourself\u001b[0m\u001b[0;34m\u001b[0m\u001b[0;34m\u001b[0m\u001b[0;34m\u001b[0m\u001b[0m\n\u001b[1;32m      2\u001b[0m \u001b[0;34m\u001b[0m\u001b[0m\n\u001b[0;32m----> 3\u001b[0;31m \u001b[0mget_acc_table\u001b[0m\u001b[0;34m(\u001b[0m\u001b[0mtrain_counts\u001b[0m\u001b[0;34m,\u001b[0m \u001b[0mtrain_y\u001b[0m\u001b[0;34m,\u001b[0m \u001b[0mvalidate_counts\u001b[0m\u001b[0;34m,\u001b[0m \u001b[0mvalidate_y\u001b[0m\u001b[0;34m,\u001b[0m \u001b[0mdict\u001b[0m\u001b[0;34m(\u001b[0m\u001b[0mword_freq\u001b[0m\u001b[0;34m)\u001b[0m\u001b[0;34m)\u001b[0m\u001b[0;34m\u001b[0m\u001b[0;34m\u001b[0m\u001b[0m\n\u001b[0m",
      "\u001b[0;32m<ipython-input-50-fa6b27e5adfb>\u001b[0m in \u001b[0;36mget_acc_table\u001b[0;34m(train_X, train_y, validate_X, validate_y, freq_dict)\u001b[0m\n\u001b[1;32m     67\u001b[0m \u001b[0;34m\u001b[0m\u001b[0m\n\u001b[1;32m     68\u001b[0m             \u001b[0;31m# Build evaluate and print results of model in table\u001b[0m\u001b[0;34m\u001b[0m\u001b[0;34m\u001b[0m\u001b[0;34m\u001b[0m\u001b[0m\n\u001b[0;32m---> 69\u001b[0;31m             \u001b[0mevaluate_model\u001b[0m\u001b[0;34m(\u001b[0m\u001b[0mtrain_X\u001b[0m\u001b[0;34m,\u001b[0m \u001b[0mtrain_y\u001b[0m\u001b[0;34m,\u001b[0m \u001b[0mvalidate_X\u001b[0m\u001b[0;34m,\u001b[0m \u001b[0mvalidate_y\u001b[0m\u001b[0;34m,\u001b[0m \u001b[0mlabel\u001b[0m\u001b[0;34m,\u001b[0m \u001b[0mthreshold\u001b[0m\u001b[0;34m)\u001b[0m\u001b[0;34m\u001b[0m\u001b[0;34m\u001b[0m\u001b[0m\n\u001b[0m\u001b[1;32m     70\u001b[0m \u001b[0;34m\u001b[0m\u001b[0m\n\u001b[1;32m     71\u001b[0m     \u001b[0mindex\u001b[0m \u001b[0;34m+=\u001b[0m \u001b[0;36m1\u001b[0m\u001b[0;34m\u001b[0m\u001b[0;34m\u001b[0m\u001b[0m\n",
      "\u001b[0;31mTypeError\u001b[0m: evaluate_model() missing 1 required positional argument: 'threshold'"
     ]
    }
   ],
   "source": [
    "# runs model evaluations, uncomment the following to run the model evaluations for yourself \n",
    "\n",
    "get_acc_table(train_counts, train_y, validate_counts, validate_y, dict(word_freq))"
   ]
  },
  {
   "cell_type": "markdown",
   "id": "rolled-publication",
   "metadata": {},
   "source": [
    "| Threshold       | Model               | Accuracy On Trian | Accuracy on Validate |\n",
    "|-----------------|---------------------|-------------------|----------------------|\n",
    "| Nothing Removed | Decision Tree       | 99.97%            | 63.88%               |\n",
    "| Nothing Removed | Random Forest       | 99.97%            | 70.07%               |\n",
    "| Nothing Removed | K Neighbors         | 62.86%            | 60.50%               |\n",
    "| Nothing Removed | Logistic Regression | 99.78%            | **71.80%**           |\n",
    "\n",
    "* Highest performing model on validate is logistic regression with an accuracy of 71.80%\n",
    "* This beats baseline by almost 12%"
   ]
  },
  {
   "cell_type": "markdown",
   "id": "false-syria",
   "metadata": {},
   "source": [
    "## Count Analysis - Drop low Relative Frequency - Raw Counts"
   ]
  },
  {
   "cell_type": "code",
   "execution_count": null,
   "id": "respected-share",
   "metadata": {},
   "outputs": [],
   "source": []
  },
  {
   "cell_type": "code",
   "execution_count": 21,
   "id": "macro-senior",
   "metadata": {},
   "outputs": [
    {
     "name": "stdout",
     "output_type": "stream",
     "text": [
      "\n",
      "Drop threshold is 0\n",
      "Accuracy Scores\n",
      "---------------\n",
      "Decision Tree  Train: 99.97% Validate: 66.69%\n",
      "Random Forest  Train: 99.97% Validate: 70.22%\n",
      "K Neighbors  Train: 63.13999999999999% Validate: 60.22%\n",
      "Logistic Regression Train: 99.6% Validate: 71.94%\n",
      "\n",
      "Drop threshold is 1\n",
      "Accuracy Scores\n",
      "---------------\n",
      "Decision Tree  Train: 99.97% Validate: 64.89%\n",
      "Random Forest  Train: 99.97% Validate: 70.07%\n",
      "K Neighbors  Train: 66.78% Validate: 60.72%\n",
      "Logistic Regression Train: 97.69% Validate: 72.00999999999999%\n",
      "\n",
      "Drop threshold is 2\n",
      "Accuracy Scores\n",
      "---------------\n",
      "Decision Tree  Train: 99.97% Validate: 64.1%\n",
      "Random Forest  Train: 99.97% Validate: 69.57%\n",
      "K Neighbors  Train: 74.24% Validate: 61.01%\n",
      "Logistic Regression Train: 95.74000000000001% Validate: 71.28999999999999%\n",
      "\n",
      "Drop threshold is 3\n",
      "Accuracy Scores\n",
      "---------------\n",
      "Decision Tree  Train: 99.97% Validate: 62.949999999999996%\n",
      "Random Forest  Train: 99.97% Validate: 69.78%\n",
      "K Neighbors  Train: 81.06% Validate: 56.55%\n",
      "Logistic Regression Train: 93.28% Validate: 71.22%\n",
      "\n",
      "Drop threshold is 4\n",
      "Accuracy Scores\n",
      "---------------\n",
      "Decision Tree  Train: 99.97% Validate: 62.370000000000005%\n",
      "Random Forest  Train: 99.97% Validate: 69.28%\n",
      "K Neighbors  Train: 76.96% Validate: 51.15%\n",
      "Logistic Regression Train: 90.47% Validate: 69.78%\n",
      "\n",
      "Drop threshold is 5\n",
      "Accuracy Scores\n",
      "---------------\n",
      "Decision Tree  Train: 99.94% Validate: 64.82%\n",
      "Random Forest  Train: 99.94% Validate: 69.64%\n",
      "K Neighbors  Train: 80.38% Validate: 58.63%\n",
      "Logistic Regression Train: 88.99000000000001% Validate: 69.28%\n"
     ]
    }
   ],
   "source": [
    "for item in [0, 1, 2, 3, 4, 5]:\n",
    "    \n",
    "    m.get_acc_after_freq_drop(train_counts, train_y, validate_counts, validate_y, word_freq, item)"
   ]
  },
  {
   "cell_type": "markdown",
   "id": "innovative-douglas",
   "metadata": {},
   "source": [
    "| Threshold       | Model               | Accuracy On Trian | Accuracy on Validate |\n",
    "|-----------------|---------------------|-------------------|----------------------|\n",
    "| Nothing Removed | Decision Tree       | 99.97%            | 64.82%               |\n",
    "|   0             | Decision Tree       | 99.97%            | **65.97%**           |\n",
    "|   1             | Decision Tree       | 99.94%            | 63.88%               |\n",
    "|   2             | Decision Tree       | 98.12%            | 61.80%               |\n",
    "|   3             | Decision Tree       | 80.97%            | 63.24%               |\n",
    "|   4             | Decision Tree       | 67.40%            | 62.52%               |\n",
    "|   5             | Decision Tree       | 67.40%            | 62.52%               |\n",
    "\n",
    "| Threshold       | Model               | Accuracy On Trian | Accuracy on Validate |\n",
    "|-----------------|---------------------|-------------------|----------------------|\n",
    "| Nothing Removed | \n",
    "|   0             | Decision Tree  Train: 99.97% Validate: 66.69%\n",
    "|   1             |\n",
    "|   2             | \n",
    "|   3             |\n",
    "|   4             |\n",
    "|   5             |\n",
    "\n",
    "| Threshold       | Model               | Accuracy On Trian | Accuracy on Validate |\n",
    "|-----------------|---------------------|-------------------|----------------------|\n",
    "| Nothing Removed | \n",
    "|   0             | Random Forest  Train: 99.97% Validate: 70.22%\n",
    "|   1             |\n",
    "|   2             | \n",
    "|   3             |\n",
    "|   4             |\n",
    "|   5             |\n",
    "\n",
    "\n",
    "| Threshold       | Model               | Accuracy On Trian | Accuracy on Validate |\n",
    "|-----------------|---------------------|-------------------|----------------------|\n",
    "| Nothing Removed | \n",
    "|   0             | \n",
    "|   1             |\n",
    "|   2             | \n",
    "|   3             |\n",
    "|   4             |\n",
    "|   5             |\n",
    "\n",
    "\n",
    "\n",
    "\n",
    "\n",
    "Drop threshold is 0\n",
    "Accuracy Scores\n",
    "---------------\n",
    "\n",
    "\n",
    "K Neighbors  Train: 63.13999999999999% Validate: 60.22%\n",
    "Logistic Regression Train: 99.6% Validate: 71.94%\n",
    "\n",
    "Drop threshold is 1\n",
    "Accuracy Scores\n",
    "---------------\n",
    "Decision Tree  Train: 99.97% Validate: 64.89%\n",
    "Random Forest  Train: 99.97% Validate: 70.07%\n",
    "K Neighbors  Train: 66.78% Validate: 60.72%\n",
    "Logistic Regression Train: 97.69% Validate: 72.00999999999999%\n",
    "\n",
    "Drop threshold is 2\n",
    "Accuracy Scores\n",
    "---------------\n",
    "Decision Tree  Train: 99.97% Validate: 64.1%\n",
    "Random Forest  Train: 99.97% Validate: 69.57%\n",
    "K Neighbors  Train: 74.24% Validate: 61.01%\n",
    "Logistic Regression Train: 95.74000000000001% Validate: 71.28999999999999%\n",
    "\n",
    "Drop threshold is 3\n",
    "Accuracy Scores\n",
    "---------------\n",
    "Decision Tree  Train: 99.97% Validate: 62.949999999999996%\n",
    "Random Forest  Train: 99.97% Validate: 69.78%\n",
    "K Neighbors  Train: 81.06% Validate: 56.55%\n",
    "Logistic Regression Train: 93.28% Validate: 71.22%\n",
    "\n",
    "Drop threshold is 4\n",
    "Accuracy Scores\n",
    "---------------\n",
    "Decision Tree  Train: 99.97% Validate: 62.370000000000005%\n",
    "Random Forest  Train: 99.97% Validate: 69.28%\n",
    "K Neighbors  Train: 76.96% Validate: 51.15%\n",
    "Logistic Regression Train: 90.47% Validate: 69.78%\n",
    "\n",
    "Drop threshold is 5\n",
    "Accuracy Scores\n",
    "---------------\n",
    "Decision Tree  Train: 99.94% Validate: 64.82%\n",
    "Random Forest  Train: 99.94% Validate: 69.64%\n",
    "K Neighbors  Train: 80.38% Validate: 58.63%\n",
    "Logistic Regression Train: 88.99000000000001% Validate: 69.28%\n",
    "\n",
    "\n",
    "\n",
    "* Observations\n",
    "    * Dropping word columns based on relative frequency results in small positive impacts on most of the models usually between ~.1 and ~2% \n",
    "    * The best performing model was only slightly improved from 71.80% to 71.94%\n",
    "* Takeaways\n",
    "    * It appears that there are some gains to be has when dropping words with relative frequency values that are less close to zero\n",
    "    * Such a small change in the leading model could reflect entropy in the data. It is unclear weather this change reflects an actual gain or statistical entropy\n",
    "    * It is also unclear weather such a small gain would be worth the extra processing time"
   ]
  },
  {
   "cell_type": "markdown",
   "id": "requested-excerpt",
   "metadata": {},
   "source": [
    "## Count Analysis - Drop low Relative Frequency - Document Counts"
   ]
  },
  {
   "cell_type": "code",
   "execution_count": 22,
   "id": "rolled-missile",
   "metadata": {},
   "outputs": [
    {
     "name": "stdout",
     "output_type": "stream",
     "text": [
      "\n",
      "Drop threshold is 0\n",
      "Accuracy Scores\n",
      "---------------\n",
      "Decision Tree  Train: 99.97% Validate: 66.33%\n",
      "Random Forest  Train: 99.97% Validate: 70.28999999999999%\n",
      "K Neighbors  Train: 63.39% Validate: 60.36%\n",
      "Logistic Regression Train: 99.53999999999999% Validate: 71.37%\n",
      "\n",
      "Drop threshold is 1\n",
      "Accuracy Scores\n",
      "---------------\n",
      "Decision Tree  Train: 99.97% Validate: 65.47%\n",
      "Random Forest  Train: 99.97% Validate: 69.78%\n",
      "K Neighbors  Train: 67.27% Validate: 59.64%\n",
      "Logistic Regression Train: 97.13000000000001% Validate: 71.65%\n",
      "\n",
      "Drop threshold is 2\n",
      "Accuracy Scores\n",
      "---------------\n",
      "Decision Tree  Train: 99.97% Validate: 65.11%\n",
      "Random Forest  Train: 99.97% Validate: 68.99%\n",
      "K Neighbors  Train: 74.24% Validate: 60.5%\n",
      "Logistic Regression Train: 95.25% Validate: 71.50999999999999%\n",
      "\n",
      "Drop threshold is 3\n",
      "Accuracy Scores\n",
      "---------------\n",
      "Decision Tree  Train: 99.97% Validate: 64.68%\n",
      "Random Forest  Train: 99.97% Validate: 70.36%\n",
      "K Neighbors  Train: 79.92% Validate: 56.910000000000004%\n",
      "Logistic Regression Train: 92.57% Validate: 70.78999999999999%\n",
      "\n",
      "Drop threshold is 4\n",
      "Accuracy Scores\n",
      "---------------\n",
      "Decision Tree  Train: 99.97% Validate: 61.22%\n",
      "Random Forest  Train: 99.97% Validate: 70.07%\n",
      "K Neighbors  Train: 73.63% Validate: 50.22%\n",
      "Logistic Regression Train: 89.61% Validate: 69.35%\n",
      "\n",
      "Drop threshold is 5\n",
      "Accuracy Scores\n",
      "---------------\n",
      "Decision Tree  Train: 99.94% Validate: 61.44%\n",
      "Random Forest  Train: 99.94% Validate: 68.92%\n",
      "K Neighbors  Train: 81.0% Validate: 56.910000000000004%\n",
      "Logistic Regression Train: 87.79% Validate: 70.28999999999999%\n"
     ]
    }
   ],
   "source": [
    "for item in [0, 1, 2, 3, 4, 5]:\n",
    "\n",
    "    m.get_acc_after_freq_drop(train_counts, train_y, validate_counts, validate_y, doc_freq, item)"
   ]
  },
  {
   "cell_type": "markdown",
   "id": "minute-ownership",
   "metadata": {},
   "source": [
    "| Threshold       | Model               | Accuracy On Trian | Accuracy on Validate |\n",
    "|-----------------|---------------------|-------------------|----------------------|\n",
    "| Nothing Removed | Decision Tree       | 99.97%            | 64.82%               |\n",
    "|   0             | Decision Tree       | 99.97%            | **65.90%**           |\n",
    "|   5             | Decision Tree       | 99.94%            | 63.45%               |\n",
    "|  20             | Decision Tree       | 97.90%            | 59.93%               |\n",
    "|  50             | Decision Tree       | 77.64%            | 63.74%               |\n",
    "| 100             | Decision Tree       | 66.38%            | 62.73%               |\n",
    "\n",
    "| Threshold       | Model               | Accuracy On Trian | Accuracy on Validate |\n",
    "|-----------------|---------------------|-------------------|----------------------|\n",
    "| Nothing Removed | Random Forest       | 99.97%            | 69.86%               |\n",
    "|   0             | Random Forest       | 99.97%            | **70.22%**           |\n",
    "|   5             | Random Forest       | 99.94%            | 69.57%               |\n",
    "|  20             | Random Forest       | 97.90%            | 65.18%               |\n",
    "|  50             | Random Forest       | 77.64%            | 64.75%               |\n",
    "| 100             | Random Forest       | 66.38%            | 62.52%               |\n",
    "\n",
    "| Threshold       | Model               | Accuracy On Trian | Accuracy on Validate |\n",
    "|-----------------|---------------------|-------------------|----------------------|\n",
    "| Nothing Removed | K Neighbors         | 62.86%            | **60.50%**           |\n",
    "| 0               | K Neighbors         | 63.39%            | 60.36%               |\n",
    "| 5               | K Neighbors         | 81.0%             | 56.91%               |\n",
    "| 20              | K Neighbors         | 75.94%            | 59.14%               |\n",
    "| 50              | K Neighbors         | 67.30%            | 57.99%               |\n",
    "| 100             | K Neighbors         | 60.18%            | 56.55%               |\n",
    "\n",
    "\n",
    "| Threshold       | Model               | Accuracy On Trian | Accuracy on Validate |\n",
    "|-----------------|---------------------|-------------------|----------------------|\n",
    "| Nothing Removed | Logistic Regression | 99.78%            | **71.80%**           |\n",
    "| 0               | Logistic Regression | 99.54%            | 71.37%               |\n",
    "| 5               | Logistic Regression | 87.79%            | 70.29%               |\n",
    "| 20              | Logistic Regression | 74.61%            | 68.56%               |\n",
    "| 50              | Logistic Regression | 67.98%            | 66.62%               |\n",
    "| 100             | Logistic Regression | 63.97%            | 63.02%               |\n",
    "\n",
    "* Observations\n",
    "    * There was marginal improvement in some scores as removing values at threshold 0\n",
    "    * There was no improvement in the top performing model logistic regression at 71.80%\n",
    "* Takeaways\n",
    "    * It appears using document frequency to remove low value words yields only marginal results at best when applied to count vectorized data"
   ]
  },
  {
   "cell_type": "markdown",
   "id": "dressed-softball",
   "metadata": {},
   "source": [
    "## TF-IDF Analysis - Full Vectorization Array"
   ]
  },
  {
   "cell_type": "code",
   "execution_count": 23,
   "id": "charming-notice",
   "metadata": {},
   "outputs": [],
   "source": [
    "train_tfidf, validate_tfidf, test_tfidf = m.get_vectorized_data(train_X, validate_X, test_X, TfidfVectorizer())"
   ]
  },
  {
   "cell_type": "code",
   "execution_count": 24,
   "id": "adequate-xerox",
   "metadata": {},
   "outputs": [
    {
     "name": "stdout",
     "output_type": "stream",
     "text": [
      "Accuracy Scores\n",
      "---------------\n",
      "Decision Tree  Train: 99.97% Validate: 61.150000000000006%\n",
      "Random Forest  Train: 99.97% Validate: 70.43%\n",
      "K Neighbors  Train: 80.35% Validate: 67.63%\n",
      "Logistic Regression Train: 88.25% Validate: 70.43%\n"
     ]
    }
   ],
   "source": [
    "m.get_acc_table(train_tfidf, train_y, validate_tfidf, validate_y)"
   ]
  },
  {
   "cell_type": "markdown",
   "id": "raised-attack",
   "metadata": {},
   "source": [
    "| Threshold       | Model               | Accuracy On Train | Accuracy on Validate |\n",
    "|-----------------|---------------------|-------------------|----------------------|\n",
    "| Nothing Removed | Decision Tree       | 99.97%            | 61.58%               |\n",
    "| Nothing Removed | Random Forest       | 99.97%            | 70.00%               |\n",
    "| Nothing Removed | K Neighbors         | 80.35%            | 67.63%               |\n",
    "| Nothing Removed | Logistic Regression | 88.25%            | **70.43%**           |\n",
    "\n",
    "* Observations\n",
    "    * Top models on validate are Random Forest and Logistic Regression at ~70% accuracy\n",
    "    * This is ~ 10% improvement on baseline but is ~1% worse than the counts vectorized data\n",
    "* Takeaways \n",
    "    * It seems that count vectorized data is slightly better than TF-IDF vectorization before removing data"
   ]
  },
  {
   "cell_type": "markdown",
   "id": "short-blast",
   "metadata": {},
   "source": [
    "# Word"
   ]
  },
  {
   "cell_type": "code",
   "execution_count": 25,
   "id": "adaptive-factor",
   "metadata": {},
   "outputs": [
    {
     "name": "stdout",
     "output_type": "stream",
     "text": [
      "\n",
      "Drop threshold is 0\n",
      "Accuracy Scores\n",
      "---------------\n",
      "Decision Tree  Train: 99.97% Validate: 62.45%\n",
      "Random Forest  Train: 99.97% Validate: 69.64%\n",
      "K Neighbors  Train: 40.78% Validate: 40.0%\n",
      "Logistic Regression Train: 87.51% Validate: 71.00999999999999%\n",
      "\n",
      "Drop threshold is 1\n",
      "Accuracy Scores\n",
      "---------------\n",
      "Decision Tree  Train: 99.97% Validate: 61.44%\n",
      "Random Forest  Train: 99.97% Validate: 69.64%\n",
      "K Neighbors  Train: 50.739999999999995% Validate: 43.53%\n",
      "Logistic Regression Train: 83.59% Validate: 70.36%\n",
      "\n",
      "Drop threshold is 2\n",
      "Accuracy Scores\n",
      "---------------\n",
      "Decision Tree  Train: 99.97% Validate: 59.78%\n",
      "Random Forest  Train: 99.97% Validate: 69.78%\n",
      "K Neighbors  Train: 87.01% Validate: 51.370000000000005%\n",
      "Logistic Regression Train: 81.92% Validate: 70.0%\n",
      "\n",
      "Drop threshold is 3\n",
      "Accuracy Scores\n",
      "---------------\n",
      "Decision Tree  Train: 99.97% Validate: 60.36%\n",
      "Random Forest  Train: 99.97% Validate: 68.78%\n",
      "K Neighbors  Train: 45.769999999999996% Validate: 41.65%\n",
      "Logistic Regression Train: 79.97999999999999% Validate: 69.78%\n",
      "\n",
      "Drop threshold is 4\n",
      "Accuracy Scores\n",
      "---------------\n",
      "Decision Tree  Train: 99.97% Validate: 58.78%\n",
      "Random Forest  Train: 99.97% Validate: 69.21000000000001%\n",
      "K Neighbors  Train: 49.97% Validate: 42.370000000000005%\n",
      "Logistic Regression Train: 79.03% Validate: 69.71000000000001%\n",
      "\n",
      "Drop threshold is 5\n",
      "Accuracy Scores\n",
      "---------------\n",
      "Decision Tree  Train: 99.97% Validate: 60.79%\n",
      "Random Forest  Train: 99.97% Validate: 68.13%\n",
      "K Neighbors  Train: 84.15% Validate: 55.11000000000001%\n",
      "Logistic Regression Train: 77.75999999999999% Validate: 69.5%\n"
     ]
    }
   ],
   "source": [
    "for item in [0, 1, 2, 3, 4, 5]:\n",
    "    \n",
    "    m.get_acc_after_freq_drop(train_tfidf, train_y, validate_tfidf, validate_y, word_freq, item)"
   ]
  },
  {
   "cell_type": "markdown",
   "id": "confirmed-sleep",
   "metadata": {},
   "source": [
    "| Threshold       | Model               | Accuracy On Trian | Accuracy on Validate |\n",
    "|-----------------|---------------------|-------------------|----------------------|\n",
    "| Nothing Removed | Decision Tree       | 99.97%            | 61.58%               |\n",
    "|   0             | Decision Tree       | 99.97%            | **62.30%**           |\n",
    "|   5             | Decision Tree       | 99.97%            | 60.14%               |\n",
    "|  20             | Decision Tree       | 99.23%            | 59.86%               |\n",
    "|  50             | Decision Tree       | 92.69%            | 60.65%               |\n",
    "| 100             | Decision Tree       | 82.54%            | 57.34%               |\n",
    "\n",
    "| Threshold       | Model               | Accuracy On Trian | Accuracy on Validate |\n",
    "|-----------------|---------------------|-------------------|----------------------|\n",
    "| Nothing Removed | Random Forest       | 99.97%            | **70.00%**           |\n",
    "|   0             | Random Forest       | 99.97%            | 69.93%               |\n",
    "|   5             | Random Forest       | 99.97%            | 67.05%               |\n",
    "|  20             | Random Forest       | 99.23%            | 64.75%               |\n",
    "|  50             | Random Forest       | 92.69%            | 62.88%               |\n",
    "| 100             | Random Forest       | 82.54%            | 58.85%               |\n",
    "\n",
    "| Threshold       | Model               | Accuracy On Trian | Accuracy on Validate |\n",
    "|-----------------|---------------------|-------------------|----------------------|\n",
    "| Nothing Removed | K Neighbors         | 80.35%            | **67.63%**           |\n",
    "| 0               | K Neighbors         | 40.78%            | 40.00%               |\n",
    "| 5               | K Neighbors         | 84.15%            | 55.11%               |\n",
    "| 20              | K Neighbors         | 75.85%            | 59.71%               |\n",
    "| 50              | K Neighbors         | 72.92%            | 62.88%               |\n",
    "| 100             | K Neighbors         | 67.77%            | 60.43%               |\n",
    "\n",
    "\n",
    "| Threshold       | Model               | Accuracy On Trian | Accuracy on Validate |\n",
    "|-----------------|---------------------|-------------------|----------------------|\n",
    "| Nothing Removed | Logistic Regression | 88.25%            | 70.43%               |\n",
    "| 0               | Logistic Regression | 87.51%            | **71.01%**           |\n",
    "| 5               | Logistic Regression | 77.76%            | 69.50%               |\n",
    "| 20              | Logistic Regression | 71.16%            | 68.35%               |\n",
    "| 50              | Logistic Regression | 67.15%            | 66.55%               |\n",
    "| 100             | Logistic Regression | 63.60%            | 63.02%               |\n",
    "\n",
    "* Observations\n",
    "    * There was marginal improvement in some scores by removing values at threshold 0\n",
    "    * There was marginal improvement in the top performing model Logistic Regression ~.4%\n",
    "    * Top model does not beat top \"counts\" model 71.80%\n",
    "* Takeaways\n",
    "    * It appears using relative word frequency to remove low value words yealds only marginal results at best when applied to TF-IDF vectorized data\n"
   ]
  },
  {
   "cell_type": "markdown",
   "id": "cutting-hammer",
   "metadata": {},
   "source": [
    "# Doc"
   ]
  },
  {
   "cell_type": "code",
   "execution_count": 26,
   "id": "whole-farmer",
   "metadata": {
    "scrolled": false
   },
   "outputs": [
    {
     "ename": "SyntaxError",
     "evalue": "invalid syntax (<ipython-input-26-38c5e647f8be>, line 1)",
     "output_type": "error",
     "traceback": [
      "\u001b[0;36m  File \u001b[0;32m\"<ipython-input-26-38c5e647f8be>\"\u001b[0;36m, line \u001b[0;32m1\u001b[0m\n\u001b[0;31m    for item in [0, 1, 2, 3, 4, 5]\u001b[0m\n\u001b[0m                                  ^\u001b[0m\n\u001b[0;31mSyntaxError\u001b[0m\u001b[0;31m:\u001b[0m invalid syntax\n"
     ]
    }
   ],
   "source": [
    "for item in [0, 1, 2, 3, 4, 5]\n",
    "    \n",
    "    m.get_acc_after_freq_drop(train_tfidf, train_y, validate_tfidf, validate_y, doc_freq, item)"
   ]
  },
  {
   "cell_type": "markdown",
   "id": "sized-translation",
   "metadata": {},
   "source": [
    "| Threshold       | Model               | Accuracy On Trian | Accuracy on Validate |\n",
    "|-----------------|---------------------|-------------------|----------------------|\n",
    "| Nothing Removed | Decision Tree       | 99.97%            | **61.58%**           |\n",
    "|   0             | Decision Tree       | 99.97%            | 61.08%               |\n",
    "|   5             | Decision Tree       | 99.94%            | 59.06%               |\n",
    "|  20             | Decision Tree       | 99.14%            | 61.01%               |\n",
    "|  50             | Decision Tree       | 90.90%            | 61.58%               |\n",
    "| 100             | Decision Tree       | 81.40%            | 57.34%               |\n",
    "\n",
    "| Threshold       | Model               | Accuracy On Trian | Accuracy on Validate |\n",
    "|-----------------|---------------------|-------------------|----------------------|\n",
    "| Nothing Removed | Random Forest       | 99.97%            | **70.00%**           |\n",
    "|   0             | Random Forest       | 99.97%            | 69.86%               |\n",
    "|   5             | Random Forest       | 99.94%            | 68.27%               |\n",
    "|  20             | Random Forest       | 99.14%            | 64.96%               |\n",
    "|  50             | Random Forest       | 90.90%            | 63.09%               |\n",
    "| 100             | Random Forest       | 81.40%            | 58.56%               |\n",
    "\n",
    "| Threshold       | Model               | Accuracy On Trian | Accuracy on Validate |\n",
    "|-----------------|---------------------|-------------------|----------------------|\n",
    "| Nothing Removed | K Neighbors         | 80.35%            | **67.63%**           |\n",
    "| 0               | K Neighbors         | 73.63%            | 50.07%               |\n",
    "| 5               | K Neighbors         | 86.21%            | 56.76%               |\n",
    "| 20              | K Neighbors         | 75.91%            | 59.42%               |\n",
    "| 50              | K Neighbors         | 70.57%            | 59.50%               |\n",
    "| 100             | K Neighbors         | 67.06%            | 60.86%               |\n",
    "\n",
    "\n",
    "| Threshold       | Model               | Accuracy On Trian | Accuracy on Validate |\n",
    "|-----------------|---------------------|-------------------|----------------------|\n",
    "| Nothing Removed | Logistic Regression | 88.25%            | **70.43%**           |\n",
    "| 0               | Logistic Regression | 87.11%            | 70.36%               |\n",
    "| 5               | Logistic Regression | 77.79%            | 70.00%               |\n",
    "| 20              | Logistic Regression | 70.85%            | 68.20%               |\n",
    "| 50              | Logistic Regression | 66.35%            | 66.62%               |\n",
    "| 100             | Logistic Regression | 63.63%            | 63.02%               |\n",
    "\n",
    "* Observations\n",
    "    * Removing word columns using document frequency does not improve any of the models when vectorizing using TF-IDF "
   ]
  },
  {
   "cell_type": "markdown",
   "id": "attractive-winner",
   "metadata": {},
   "source": [
    "# Choosing a Model  \n",
    "\n",
    "* Top Performing Model \n",
    "    * Uses count vectorized data\n",
    "    * Removes words using relative word frequency\n",
    "    * Uses a threshold of 0\n",
    "    * Is a Logistic Regression model\n",
    "    * Has an accuracy of 71.94% \n",
    "    * Beats Baseline by ~12%\n",
    "    \n",
    "* Runner-Up Model\n",
    "    * Uses Count vectorized data\n",
    "    * Does not remove words due to relative frequency \n",
    "        * For this reason will have a significantly shorter run time\n",
    "    * Is only ~.14% less accurate than the top model \n",
    " \n",
    "* Takeaways \n",
    "    * I have chosen the top performing model in terms of accuracy\n",
    "    * It's runtime will be considerably slower \n",
    "    * so in practice one will need to judge if the extra .14% accuracy is worth the extra run time"
   ]
  },
  {
   "cell_type": "markdown",
   "id": "ranking-argument",
   "metadata": {},
   "source": [
    "# Top Model Evaluated on Test"
   ]
  },
  {
   "cell_type": "code",
   "execution_count": null,
   "id": "historical-dream",
   "metadata": {},
   "outputs": [],
   "source": [
    "m.get_test_eval(dict(word_freq), train_counts, train_y, test_counts, test_y)"
   ]
  },
  {
   "cell_type": "markdown",
   "id": "severe-annotation",
   "metadata": {},
   "source": [
    "# Model Conclusions\n",
    "\n",
    "* Vectorized using count seems to outperform vectorizing using TF-IDF on this data\n",
    "    * Difference in accuracy was small\n",
    "* Removing low relative frequency words seems to outperform removing words with low document frequency\n",
    "    * Most models benefited from removing only 0 relative frequency words, a few showed a benefit at 5\n",
    "    * Difference in accuracy was small\n",
    "* Logistic Regression was the algorithm that produced the best result \n",
    "* The top model was able to predict with 72.56% on test data\n",
    "* At this time I do not recommend moving forward as I would like to see at least 80-90% accuracy form the model before doing so "
   ]
  },
  {
   "cell_type": "markdown",
   "id": "declared-efficiency",
   "metadata": {},
   "source": [
    "# Process Summary\n",
    "\n",
    "* Comedy was chosen as the test case to build a predictive model using the following criteria \n",
    "   * Representation in the data\n",
    "   * Number of unique words\n",
    "   * High number of unique words appearing in each description\n",
    "   * human intuitability\n",
    "* The comedy genre was explored \n",
    "    * Data Split\n",
    "        * Training data has a 60/40 split of comedy and non-comedy data \n",
    "            * This likely caused the relative frequency numbers to skew toward the negative\n",
    "    * Relative Frequency Distribution\n",
    "        * Both relative frequency metrics showed values that normalize close to zero\n",
    "        * This shows that a majority of words are not likely to be strong indicators of comedy \n",
    "        * Both metrics indicate a negative skew likely do to an imbalance in the data\n",
    "        * Word frequency seems to be more skewed than Document frequency\n",
    "    * Extreme Value Words\n",
    "        * Extreme positive values are much closer to zero than their negative counterparts and include words that are intuitively indicative of comedy such as comedy, comedian, and standup\n",
    "        * Extreme negative values are much farther from zero and do not include words that are intuitively indicative of non-comedy films\n",
    "        * This gives evidence that low value words may be common words that appear more frequently in non-comedy films due to the data imbalance\n",
    "        * This also gives evidence that high value words are likely to be strong indicators of comedy films due to surviving the imbalance and being intuitively indicative of comedy films \n",
    "* Methods were developed to predict comedy genre\n",
    "    * Pre-Modeling Predictions\n",
    "        * Predicting comedy using presence or number of unique words yielded disappointing results\n",
    "            * Presence of Unique Words\n",
    "                * Overall Accuracy 32%\n",
    "                * Override Accuracy 68%\n",
    "            * Number of Unique Words\n",
    "                * Overall Accuracy 49%\n",
    "                * Override Accuracy 67%\n",
    "            * Overall accuracy for both attempts were less than baseline\n",
    "            * Override accuracy for both attempts were above baseline but worse then the final model \n",
    "                * This means that using either method to override the predictions of the current model would in all likelihood yield less accurate predictions\n",
    "* Machine learning models were developed to predict comedy genre\n",
    "    * Top Performing Model \n",
    "        * Uses count vectorized data\n",
    "        * Removes words using relative word frequency\n",
    "        * Uses a threshold of 0\n",
    "        * Is a Logistic Regression model\n",
    "        * Has an accuracy of 72.56% on test data \n",
    "        * Beats Baseline by  12.56%\n",
    "    * Count vectorized data seems to outperform TF-IDF data by a small margin\n",
    "    * Removing word features due to low word frequency seems to outperform removing word features do to low document frequency by a small margin\n",
    "    * At this time I do not recommend moving forward as I would like to see at least 80-90% accuracy form the model before doing so "
   ]
  },
  {
   "cell_type": "markdown",
   "id": "useful-ladder",
   "metadata": {},
   "source": [
    "# Next Steps\n",
    "\n",
    "* At this time the accuracy of the best performing model stands at 72.56% \n",
    "* I would prefer to see an accuracy of 80-90% before moving on the the next stage of packaging the model to make similar predictions of all of the other genres\n",
    "* Reccomendations for next steps next steps is to focus on prodousing a more accurate model\n",
    "    * Focus on Logistic Regression models\n",
    "        * This model was consistently the highest performer on its default settings\n",
    "        * I might be able to get some extra accuracy by adjusting its hyperparameters\n",
    "    * Focus on count vectorized Data\n",
    "        * This type of vectorization seems to result in slightly higher accuracy than TF-IDF\n",
    "    * Focus on Relative frequency by word count\n",
    "        * Removing word features with a low relative word frequency resulted in a small boost to the final models accuracy\n",
    "        * It also seems to have a slightly better effect on accuracy than using relative document frequency\n",
    "        * Normalize relative frequency values to account for skews in the data\n",
    "    * Rethink non-modeling approach to predictions\n",
    "        * Instead of using unique words predict values using by adding the relative frequency numbers of all of the words in the description\n",
    "            * positive results would be predicted as comedy\n",
    "            * negative results would be predicted as non-comedy  \n",
    "    * Review model evaluation code for inefficiencies to address the evaluation run time issues\n",
    "    * Try tests on a different genre to see to they produce similar results\n",
    "* Once model accuracy can be confirmed at 80% or higher on at least one genre the next step is to create a pipeline to acquire, prepare, build and evaluate models that predict True/False for each genre in the dataset and evaluate the accuracy of models that are prepared as a part of this pipeline"
   ]
  },
  {
   "cell_type": "code",
   "execution_count": null,
   "id": "civic-prague",
   "metadata": {},
   "outputs": [],
   "source": []
  }
 ],
 "metadata": {
  "kernelspec": {
   "display_name": "Python 3",
   "language": "python",
   "name": "python3"
  },
  "language_info": {
   "codemirror_mode": {
    "name": "ipython",
    "version": 3
   },
   "file_extension": ".py",
   "mimetype": "text/x-python",
   "name": "python",
   "nbconvert_exporter": "python",
   "pygments_lexer": "ipython3",
   "version": "3.7.4"
  }
 },
 "nbformat": 4,
 "nbformat_minor": 5
}
